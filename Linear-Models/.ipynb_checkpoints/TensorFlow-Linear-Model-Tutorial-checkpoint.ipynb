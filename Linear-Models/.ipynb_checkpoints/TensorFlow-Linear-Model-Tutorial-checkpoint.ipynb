{
 "cells": [
  {
   "cell_type": "markdown",
   "metadata": {},
   "source": [
    "In this tutorial, we will use the tf.estimator API in TensorFlow to solve a binary classification problem: Given census data about a person such as age, education, marital status, and occupation (the features), we will try to predict whether or not the person earns more than 50,000 dollars a year (the target label). We will train a logistic regression model, and given an individual's information our model will output a number between 0 and 1, which can be interpreted as the probability that the individual has an annual income of over 50,000 dollars.\n",
    "\n",
    "# Setup\n",
    "To try the code for this tutorial:\n",
    "\n",
    "1. [Install TensorFlow](https://www.tensorflow.org/install/) if you haven't already.\n",
    "2. Download [the tutorial code](https://github.com/tensorflow/models/tree/master/official/wide_deep/).\n",
    "3. Execute the data download script we provide to you: $ python data_download.py\n",
    "\n",
    "4. Execute the tutorial code with the following command to train the linear model described in this tutorial: \n",
    "$ python wide_deep.py --model_type=wide\n",
    "\n",
    "Read on to find out how this code builds its linear model."
   ]
  },
  {
   "cell_type": "markdown",
   "metadata": {},
   "source": [
    "# Reading The Census Data\n",
    "The dataset we'll be using is the [Census Income Dataset](https://archive.ics.uci.edu/ml/datasets/Census+Income). We have provided data_download.py which downloads the code and performs some additional cleanup.\n",
    "\n",
    "Since the task is a binary classification problem, we'll construct a label column named \"label\" whose value is 1 if the income is over 50K, and 0 otherwise. For reference, see input_fn in wide_deep.py.\n",
    "\n",
    "Next, let's take a look at the dataframe and see which columns we can use to predict the target label. The columns can be grouped into two types—categorical and continuous columns:\n",
    "\n",
    "A column is called categorical if its value can only be one of the categories in a finite set. For example, the relationship status of a person (wife, husband, unmarried, etc.) or the education level (high school, college, etc.) are categorical columns.\n",
    "A column is called continuous if its value can be any numerical value in a continuous range. For example, the capital gain of a person (e.g. $14,084) is a continuous column."
   ]
  }
 ],
 "metadata": {
  "kernelspec": {
   "display_name": "Python 3",
   "language": "python",
   "name": "python3"
  },
  "language_info": {
   "codemirror_mode": {
    "name": "ipython",
    "version": 3
   },
   "file_extension": ".py",
   "mimetype": "text/x-python",
   "name": "python",
   "nbconvert_exporter": "python",
   "pygments_lexer": "ipython3",
   "version": "3.6.4"
  }
 },
 "nbformat": 4,
 "nbformat_minor": 2
}
