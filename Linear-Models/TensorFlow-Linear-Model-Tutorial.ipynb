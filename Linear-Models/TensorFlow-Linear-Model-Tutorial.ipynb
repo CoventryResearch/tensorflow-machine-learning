{
 "cells": [
  {
   "cell_type": "markdown",
   "metadata": {},
   "source": [
    "In this tutorial, we will use the tf.estimator API in TensorFlow to solve a binary classification problem: Given census data about a person such as age, education, marital status, and occupation (the features), we will try to predict whether or not the person earns more than 50,000 dollars a year (the target label). We will train a logistic regression model, and given an individual's information our model will output a number between 0 and 1, which can be interpreted as the probability that the individual has an annual income of over 50,000 dollars.\n",
    "\n",
    "# Setup\n",
    "To try the code for this tutorial:\n",
    "\n",
    "1. [Install TensorFlow](https://www.tensorflow.org/install/) if you haven't already.\n",
    "2. Download [the tutorial code](https://github.com/tensorflow/models/tree/master/official/wide_deep/).\n",
    "3. Execute the data download script we provide to you: $ python data_download.py\n",
    "\n",
    "4. Execute the tutorial code with the following command to train the linear model described in this tutorial: \n",
    "$ python wide_deep.py --model_type=wide\n",
    "\n",
    "Read on to find out how this code builds its linear model."
   ]
  },
  {
   "cell_type": "markdown",
   "metadata": {},
   "source": [
    "# Reading The Census Data\n",
    "The dataset we'll be using is the [Census Income Dataset](https://archive.ics.uci.edu/ml/datasets/Census+Income). We have provided [data_download.py](https://github.com/khanhnamle1994/tensorflow-machine-learning/blob/master/Linear-Models/data_download.py) which downloads the code and performs some additional cleanup.\n",
    "\n",
    "Since the task is a binary classification problem, we'll construct a label column named \"label\" whose value is 1 if the income is over 50K, and 0 otherwise. For reference, see input_fn in [wide_deep.py](https://github.com/khanhnamle1994/tensorflow-machine-learning/blob/master/Linear-Models/wide_deep.py).\n",
    "\n",
    "Next, let's take a look at the dataframe and see which columns we can use to predict the target label. The columns can be grouped into two types—categorical and continuous columns:\n",
    "\n",
    "* A column is called categorical if its value can only be one of the categories in a finite set. For example, the relationship status of a person (wife, husband, unmarried, etc.) or the education level (high school, college, etc.) are categorical columns.\n",
    "* A column is called continuous if its value can be any numerical value in a continuous range. For example, the capital gain of a person (e.g. $14,084) is a continuous column."
   ]
  },
  {
   "cell_type": "markdown",
   "metadata": {},
   "source": [
    "# Converting Data into Tensors\n",
    "When building a tf.estimator model, the input data is specified by means of an Input Builder function. This builder function will not be called until it is later passed to tf.estimator.Estimator methods such as train and evaluate. The purpose of this function is to construct the input data, which is represented in the form of [tf.Tensors](https://www.tensorflow.org/api_docs/python/tf/Tensor) or [tf.SparseTensors](https://www.tensorflow.org/api_docs/python/tf/SparseTensor). In more detail, the input builder function returns the following as a pair:\n",
    "\n",
    "1. features: A dict from feature column names to Tensors or SparseTensors.\n",
    "2. labels: A Tensor containing the label column.\n",
    "\n",
    "The keys of the features will be used to construct columns in the next section. Because we want to call the train and evaluate methods with different data, we define a method that returns an input function based on the given data. Note that the returned input function will be called while constructing the TensorFlow graph, not while running the graph. What it is returning is a representation of the input data as the fundamental unit of TensorFlow computations, a Tensor (or SparseTensor).\n",
    "\n",
    "Each continuous column in the train or test data will be converted into a Tensor, which in general is a good format to represent dense data. For categorical data, we must represent the data as a SparseTensor. This data format is good for representing sparse data. Our input_fn uses the tf.data API, which makes it easy to apply transformations to our dataset:"
   ]
  },
  {
   "cell_type": "code",
   "execution_count": null,
   "metadata": {
    "collapsed": true
   },
   "outputs": [],
   "source": [
    "def input_fn(data_file, num_epochs, shuffle, batch_size):\n",
    "  \"\"\"Generate an input function for the Estimator.\"\"\"\n",
    "  assert tf.gfile.Exists(data_file), (\n",
    "      '%s not found. Please make sure you have either run data_download.py or '\n",
    "      'set both arguments --train_data and --test_data.' % data_file)\n",
    "\n",
    "  def parse_csv(value):\n",
    "    print('Parsing', data_file)\n",
    "    columns = tf.decode_csv(value, record_defaults=_CSV_COLUMN_DEFAULTS)\n",
    "    features = dict(zip(_CSV_COLUMNS, columns))\n",
    "    labels = features.pop('income_bracket')\n",
    "    return features, tf.equal(labels, '>50K')\n",
    "\n",
    "  # Extract lines from input files using the Dataset API.\n",
    "  dataset = tf.data.TextLineDataset(data_file)\n",
    "\n",
    "  if shuffle:\n",
    "    dataset = dataset.shuffle(buffer_size=_SHUFFLE_BUFFER)\n",
    "\n",
    "  dataset = dataset.map(parse_csv, num_parallel_calls=5)\n",
    "\n",
    "  # We call repeat after shuffling, rather than before, to prevent separate\n",
    "  # epochs from blending together.\n",
    "  dataset = dataset.repeat(num_epochs)\n",
    "  dataset = dataset.batch(batch_size)\n",
    "\n",
    "  iterator = dataset.make_one_shot_iterator()\n",
    "  features, labels = iterator.get_next()\n",
    "  return features, labels"
   ]
  },
  {
   "cell_type": "markdown",
   "metadata": {},
   "source": [
    "# Selecting and Engineering Features for the Model\n",
    "Selecting and crafting the right set of feature columns is key to learning an effective model. A feature column can be either one of the raw columns in the original dataframe (let's call them base feature columns), or any new columns created based on some transformations defined over one or multiple base columns (let's call them derived feature columns). Basically, \"feature column\" is an abstract concept of any raw or derived variable that can be used to predict the target label.\n",
    "\n",
    "## Base Categorical Feature Columns\n",
    "To define a feature column for a categorical feature, we can create a CategoricalColumn using the tf.feature_column API. If you know the set of all possible feature values of a column and there are only a few of them, you can use categorical_column_with_vocabulary_list. Each key in the list will get assigned an auto-incremental ID starting from 0. For example, for the relationship column we can assign the feature string \"Husband\" to an integer ID of 0 and \"Not-in-family\" to 1, etc., by doing"
   ]
  },
  {
   "cell_type": "code",
   "execution_count": null,
   "metadata": {
    "collapsed": true
   },
   "outputs": [],
   "source": [
    "relationship = tf.feature_column.categorical_column_with_vocabulary_list(\n",
    "    'relationship', [\n",
    "        'Husband', 'Not-in-family', 'Wife', 'Own-child', 'Unmarried',\n",
    "        'Other-relative'])"
   ]
  },
  {
   "cell_type": "markdown",
   "metadata": {},
   "source": [
    "What if we don't know the set of possible values in advance? Not a problem. We can use categorical_column_with_hash_bucket instead:"
   ]
  },
  {
   "cell_type": "code",
   "execution_count": null,
   "metadata": {
    "collapsed": true
   },
   "outputs": [],
   "source": [
    "occupation = tf.feature_column.categorical_column_with_hash_bucket(\n",
    "    'occupation', hash_bucket_size=1000)"
   ]
  },
  {
   "cell_type": "markdown",
   "metadata": {},
   "source": [
    "No matter which way we choose to define a SparseColumn, each feature string will be mapped into an integer ID by looking up a fixed mapping or by hashing. Note that hashing collisions are possible, but may not significantly impact the model quality. Under the hood, the LinearModel class is responsible for managing the mapping and creating tf.Variable to store the model parameters (also known as model weights) for each feature ID. The model parameters will be learned through the model training process we'll go through later.\n",
    "\n",
    "We'll do the similar trick to define the other categorical features:"
   ]
  },
  {
   "cell_type": "code",
   "execution_count": null,
   "metadata": {
    "collapsed": true
   },
   "outputs": [],
   "source": [
    "education = tf.feature_column.categorical_column_with_vocabulary_list(\n",
    "    'education', [\n",
    "        'Bachelors', 'HS-grad', '11th', 'Masters', '9th', 'Some-college',\n",
    "        'Assoc-acdm', 'Assoc-voc', '7th-8th', 'Doctorate', 'Prof-school',\n",
    "        '5th-6th', '10th', '1st-4th', 'Preschool', '12th'])\n",
    "\n",
    "marital_status = tf.feature_column.categorical_column_with_vocabulary_list(\n",
    "    'marital_status', [\n",
    "        'Married-civ-spouse', 'Divorced', 'Married-spouse-absent',\n",
    "        'Never-married', 'Separated', 'Married-AF-spouse', 'Widowed'])\n",
    "\n",
    "relationship = tf.feature_column.categorical_column_with_vocabulary_list(\n",
    "    'relationship', [\n",
    "        'Husband', 'Not-in-family', 'Wife', 'Own-child', 'Unmarried',\n",
    "        'Other-relative'])\n",
    "\n",
    "workclass = tf.feature_column.categorical_column_with_vocabulary_list(\n",
    "    'workclass', [\n",
    "        'Self-emp-not-inc', 'Private', 'State-gov', 'Federal-gov',\n",
    "        'Local-gov', '?', 'Self-emp-inc', 'Without-pay', 'Never-worked'])\n",
    "\n",
    "# To show an example of hashing:\n",
    "occupation = tf.feature_column.categorical_column_with_hash_bucket(\n",
    "    'occupation', hash_bucket_size=1000)"
   ]
  },
  {
   "cell_type": "markdown",
   "metadata": {},
   "source": [
    "## Base Continuous Feature Columns\n",
    "Similarly, we can define a NumericColumn for each continuous feature column that we want to use in the model:"
   ]
  },
  {
   "cell_type": "code",
   "execution_count": null,
   "metadata": {
    "collapsed": true
   },
   "outputs": [],
   "source": [
    "age = tf.feature_column.numeric_column('age')\n",
    "education_num = tf.feature_column.numeric_column('education_num')\n",
    "capital_gain = tf.feature_column.numeric_column('capital_gain')\n",
    "capital_loss = tf.feature_column.numeric_column('capital_loss')\n",
    "hours_per_week = tf.feature_column.numeric_column('hours_per_week')"
   ]
  },
  {
   "cell_type": "markdown",
   "metadata": {},
   "source": [
    "## Making Continuous Features Categorical through Bucketization\n",
    "Sometimes the relationship between a continuous feature and the label is not linear. As an hypothetical example, a person's income may grow with age in the early stage of one's career, then the growth may slow at some point, and finally the income decreases after retirement. In this scenario, using the raw age as a real-valued feature column might not be a good choice because the model can only learn one of the three cases:\n",
    "\n",
    "1. Income always increases at some rate as age grows (positive correlation),\n",
    "2. Income always decreases at some rate as age grows (negative correlation), or\n",
    "3. Income stays the same no matter at what age (no correlation)\n",
    "\n",
    "If we want to learn the fine-grained correlation between income and each age group separately, we can leverage bucketization. Bucketization is a process of dividing the entire range of a continuous feature into a set of consecutive bins/buckets, and then converting the original numerical feature into a bucket ID (as a categorical feature) depending on which bucket that value falls into. So, we can define a bucketized_column over age as:"
   ]
  },
  {
   "cell_type": "code",
   "execution_count": null,
   "metadata": {
    "collapsed": true
   },
   "outputs": [],
   "source": [
    "age_buckets = tf.feature_column.bucketized_column(\n",
    "    age, boundaries=[18, 25, 30, 35, 40, 45, 50, 55, 60, 65])"
   ]
  },
  {
   "cell_type": "markdown",
   "metadata": {},
   "source": [
    "where the boundaries is a list of bucket boundaries. In this case, there are 10 boundaries, resulting in 11 age group buckets (from age 17 and below, 18-24, 25-29, ..., to 65 and over).\n",
    "\n",
    "## Intersecting Multiple Columns with CrossedColumn\n",
    "Using each base feature column separately may not be enough to explain the data. For example, the correlation between education and the label (earning > 50,000 dollars) may be different for different occupations. Therefore, if we only learn a single model weight for education=\"Bachelors\" and education=\"Masters\", we won't be able to capture every single education-occupation combination (e.g. distinguishing between education=\"Bachelors\" AND occupation=\"Exec-managerial\" and education=\"Bachelors\" AND occupation=\"Craft-repair\"). To learn the differences between different feature combinations, we can add crossed feature columns to the model."
   ]
  },
  {
   "cell_type": "code",
   "execution_count": null,
   "metadata": {
    "collapsed": true
   },
   "outputs": [],
   "source": [
    "education_x_occupation = tf.feature_column.crossed_column(\n",
    "    ['education', 'occupation'], hash_bucket_size=1000)"
   ]
  },
  {
   "cell_type": "markdown",
   "metadata": {},
   "source": [
    "We can also create a CrossedColumn over more than two columns. Each constituent column can be either a base feature column that is categorical (SparseColumn), a bucketized real-valued feature column (BucketizedColumn), or even another CrossColumn. Here's an example:"
   ]
  },
  {
   "cell_type": "code",
   "execution_count": null,
   "metadata": {
    "collapsed": true
   },
   "outputs": [],
   "source": [
    "age_buckets_x_education_x_occupation = tf.feature_column.crossed_column(\n",
    "    [age_buckets, 'education', 'occupation'], hash_bucket_size=1000)"
   ]
  },
  {
   "cell_type": "markdown",
   "metadata": {},
   "source": [
    "# Defining The Logistic Regression Model\n",
    "After processing the input data and defining all the feature columns, we're now ready to put them all together and build a Logistic Regression model. In the previous section we've seen several types of base and derived feature columns, including:\n",
    "\n",
    "* CategoricalColumn\n",
    "* NumericColumn\n",
    "* BucketizedColumn\n",
    "* CrossedColumn\n",
    "All of these are subclasses of the abstract FeatureColumn class, and can be added to the feature_columns field of a model:"
   ]
  },
  {
   "cell_type": "code",
   "execution_count": null,
   "metadata": {
    "collapsed": true
   },
   "outputs": [],
   "source": [
    "base_columns = [\n",
    "    education, marital_status, relationship, workclass, occupation,\n",
    "    age_buckets,\n",
    "]\n",
    "crossed_columns = [\n",
    "    tf.feature_column.crossed_column(\n",
    "        ['education', 'occupation'], hash_bucket_size=1000),\n",
    "    tf.feature_column.crossed_column(\n",
    "        [age_buckets, 'education', 'occupation'], hash_bucket_size=1000),\n",
    "]\n",
    "\n",
    "model_dir = tempfile.mkdtemp()\n",
    "model = tf.estimator.LinearClassifier(\n",
    "    model_dir=model_dir, feature_columns=base_columns + crossed_columns)"
   ]
  },
  {
   "cell_type": "markdown",
   "metadata": {},
   "source": [
    "The model also automatically learns a bias term, which controls the prediction one would make without observing any features (see the section \"How Logistic Regression Works\" for more explanations). The learned model files will be stored in model_dir.\n",
    "\n",
    "# Training and Evaluating Our Model\n",
    "After adding all the features to the model, now let's look at how to actually train the model. Training a model is just a single command using the tf.estimator API:"
   ]
  },
  {
   "cell_type": "code",
   "execution_count": null,
   "metadata": {
    "collapsed": true
   },
   "outputs": [],
   "source": [
    "model.train(input_fn=lambda: input_fn(train_data, num_epochs, True, batch_size))"
   ]
  },
  {
   "cell_type": "markdown",
   "metadata": {},
   "source": [
    "After the model is trained, we can evaluate how good our model is at predicting the labels of the holdout data:"
   ]
  },
  {
   "cell_type": "code",
   "execution_count": null,
   "metadata": {
    "collapsed": true
   },
   "outputs": [],
   "source": [
    "results = model.evaluate(input_fn=lambda: input_fn(\n",
    "    test_data, 1, False, batch_size))\n",
    "for key in sorted(results):\n",
    "  print('%s: %s' % (key, results[key]))"
   ]
  },
  {
   "cell_type": "markdown",
   "metadata": {},
   "source": [
    "The first line of the final output should be something like accuracy: 0.83557522, which means the accuracy is 83.6%. Feel free to try more features and transformations and see if you can do even better!\n",
    "\n",
    "If you'd like to see a working end-to-end example, you can download our [example code](https://github.com/khanhnamle1994/tensorflow-machine-learning/blob/master/Linear-Models/wide_deep.py) and set the model_type flag to wide.\n",
    "\n",
    "# Adding Regularization to Prevent Overfitting\n",
    "Regularization is a technique used to avoid overfitting. Overfitting happens when your model does well on the data it is trained on, but worse on test data that the model has not seen before, such as live traffic. Overfitting generally occurs when a model is excessively complex, such as having too many parameters relative to the number of observed training data. Regularization allows for you to control your model's complexity and makes the model more generalizable to unseen data.\n",
    "\n",
    "In the Linear Model library, you can add L1 and L2 regularizations to the model as:"
   ]
  },
  {
   "cell_type": "code",
   "execution_count": null,
   "metadata": {
    "collapsed": true
   },
   "outputs": [],
   "source": [
    "model = tf.estimator.LinearClassifier(\n",
    "    model_dir=model_dir, feature_columns=base_columns + crossed_columns,\n",
    "    optimizer=tf.train.FtrlOptimizer(\n",
    "        learning_rate=0.1,\n",
    "        l1_regularization_strength=1.0,\n",
    "        l2_regularization_strength=1.0))"
   ]
  },
  {
   "cell_type": "markdown",
   "metadata": {},
   "source": [
    "One important difference between L1 and L2 regularization is that L1 regularization tends to make model weights stay at zero, creating sparser models, whereas L2 regularization also tries to make the model weights closer to zero but not necessarily zero. Therefore, if you increase the strength of L1 regularization, you will have a smaller model size because many of the model weights will be zero. This is often desirable when the feature space is very large but sparse, and when there are resource constraints that prevent you from serving a model that is too large.\n",
    "\n",
    "In practice, you should try various combinations of L1, L2 regularization strengths and find the best parameters that best control overfitting and give you a desirable model size.\n",
    "\n",
    "# How Logistic Regression Works\n",
    "Finally, let's take a minute to talk about what the Logistic Regression model actually looks like in case you're not already familiar with it. We'll denote the label as $Y$, and the set of observed features as a feature vector $\\mathbf{x}=[x_1, x_2, ..., x_d]$. We define $Y=1$ if an individual earned > 50,000 dollars and $Y=0$ otherwise. In Logistic Regression, the probability of the label being positive ($Y=1$) given the features $\\mathbf{x}$ is given as:\n",
    "\n",
    "$$P(Y=1|\\mathbf{x}) = \\frac{1}{1+\\exp(-(\\mathbf{w}^T\\mathbf{x}+b))}$$\n",
    "\n",
    "where $\\mathbf{w}=[w_1, w_2, ..., w_d]$ are the model weights for the features $\\mathbf{x}=[x_1, x_2, ..., x_d]$. $b$ is a constant that is often called the bias of the model. The equation consists of two parts—A linear model and a logistic function:\n",
    "\n",
    "* Linear Model: First, we can see that $\\mathbf{w}^T\\mathbf{x}+b = b +\n",
    "    w_1x_1 + ... +w_dx_d$ is a linear model where the output is a linear function of the input features $\\mathbf{x}$. The bias $b$ is the prediction one would make without observing any features. The model weight $w_i$ reflects how the feature $x_i$ is correlated with the positive label. If $x_i$ is positively correlated with the positive label, the weight $w_i$ increases, and the probability $P(Y=1|\\mathbf{x})$ will be closer to 1. On the other hand, if $x_i$ is negatively correlated with the positive label, then the weight $w_i$ decreases and the probability $P(Y=1|\\mathbf{x})$ will be closer to 0.\n",
    "\n",
    "* Logistic Function: Second, we can see that there's a logistic function (also known as the sigmoid function) $S(t) = 1/(1+\\exp(-t))$ being applied to the linear model. The logistic function is used to convert the output of the linear model $\\mathbf{w}^T\\mathbf{x}+b$ from any real number into the range of $[0, 1]$, which can be interpreted as a probability.\n",
    "\n",
    "Model training is an optimization problem: The goal is to find a set of model weights (i.e. model parameters) to minimize a loss function defined over the training data, such as logistic loss for Logistic Regression models. The loss function measures the discrepancy between the ground-truth label and the model's prediction. If the prediction is very close to the ground-truth label, the loss value will be low; if the prediction is very far from the label, then the loss value would be high."
   ]
  }
 ],
 "metadata": {
  "kernelspec": {
   "display_name": "Python 3",
   "language": "python",
   "name": "python3"
  },
  "language_info": {
   "codemirror_mode": {
    "name": "ipython",
    "version": 3
   },
   "file_extension": ".py",
   "mimetype": "text/x-python",
   "name": "python",
   "nbconvert_exporter": "python",
   "pygments_lexer": "ipython3",
   "version": "3.6.4"
  }
 },
 "nbformat": 4,
 "nbformat_minor": 2
}
