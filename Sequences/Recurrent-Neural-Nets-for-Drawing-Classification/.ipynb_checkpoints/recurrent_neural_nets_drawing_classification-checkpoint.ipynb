{
 "cells": [
  {
   "cell_type": "markdown",
   "metadata": {},
   "source": [
    "# Recurrent Neural Networks for Drawing Classification\n",
    "[Quick, Draw!](https://quickdraw.withgoogle.com/) is a game where a player is challenged to draw a number of objects and see if a computer can recognize the drawing.\n",
    "\n",
    "The recognition in [Quick, Draw!](https://quickdraw.withgoogle.com/) is performed by a classifier that takes the user input, given as a sequence of strokes of points in x and y, and recognizes the object category that the user tried to draw.\n",
    "\n",
    "In this tutorial we'll show how to build an RNN-based recognizer for this problem. The model will use a combination of convolutional layers, LSTM layers, and a softmax output layer to classify the drawings:\n",
    "\n",
    "![quickdraw-model](quickdraw_model.png)\n",
    "\n",
    "The figure above shows the structure of the model that we will build in this tutorial. The input is a drawing that is encoded as a sequence of strokes of points in x, y, and n, where n indicates whether a the point is the first point in a new stroke.\n",
    "\n",
    "Then, a series of 1-dimensional convolutions is applied. Then LSTM layers are applied and the sum of the outputs of all LSTM steps is fed into a softmax layer to make a classification decision among the classes of drawings that we know.\n",
    "\n",
    "This tutorial uses the data from actual [Quick, Draw!](https://quickdraw.withgoogle.com/) games that is [publicly available](https://quickdraw.withgoogle.com/data). This dataset contains of 50M drawings in 345 categories."
   ]
  },
  {
   "cell_type": "markdown",
   "metadata": {},
   "source": [
    "## Run the tutorial code\n",
    "To try the code for this tutorial:\n",
    "\n",
    "1. [Install TensorFlow](https://www.tensorflow.org/install/) if you haven't already.\n",
    "2. Download the [tutorial code](https://github.com/tensorflow/models/blob/master/tutorials/rnn/quickdraw/train_model.py).\n",
    "3. [Download the data](https://www.tensorflow.org/tutorials/recurrent_quickdraw#download_the_data) in TFRecord format from here and unzip it. More details about [how to obtain the original Quick, Draw! data](https://www.tensorflow.org/tutorials/recurrent_quickdraw#optional-download-the-full-quick-draw-data) and [how to convert that to TFRecord files](https://www.tensorflow.org/tutorials/recurrent_quickdraw#optional-converting-the-data) is available below.\n",
    "4. Execute the tutorial code with the following command to train the RNN-based model described in this tutorial. Make sure to adjust the paths to point to the unzipped data from the download in step 3."
   ]
  },
  {
   "cell_type": "code",
   "execution_count": null,
   "metadata": {
    "collapsed": true
   },
   "outputs": [],
   "source": [
    "  python train_model.py \\\n",
    "    --training_data=rnn_tutorial_data/training.tfrecord-?????-of-????? \\\n",
    "    --eval_data=rnn_tutorial_data/eval.tfrecord-?????-of-????? \\\n",
    "    --classes_file=rnn_tutorial_data/training.tfrecord.classes"
   ]
  },
  {
   "cell_type": "markdown",
   "metadata": {},
   "source": [
    "## Tutorial details\n",
    "### Download the data\n",
    "We make the data that we use in this tutorial available as TFRecord files containing TFExamples. You can download the data from here:\n",
    "\n",
    "http://download.tensorflow.org/data/quickdraw_tutorial_dataset_v1.tar.gz\n",
    "\n",
    "Alternatively you can download the original data in ndjson format from the Google cloud and convert it to the TFRecord files containing TFExamples yourself as described in the next section.\n",
    "\n",
    "### Optional: Download the full Quick Draw Data\n",
    "The full [Quick, Draw! dataset](https://quickdraw.withgoogle.com/) is available on Google Cloud Storage as [ndjson](http://ndjson.org/) files separated by category. You can [browse the list of files in Cloud Console](https://console.cloud.google.com/storage/browser/quickdraw_dataset?pli=1).\n",
    "\n",
    "To download the data we recommend using [gsutil](https://cloud.google.com/storage/docs/gsutil_install#install) to download the entire dataset. Note that the original .ndjson files require downloading ~22GB.\n",
    "\n",
    "Then use the following command to check that your gsutil installation works and that you can access the data bucket:"
   ]
  },
  {
   "cell_type": "code",
   "execution_count": null,
   "metadata": {
    "collapsed": true
   },
   "outputs": [],
   "source": [
    "gsutil ls -r \"gs://quickdraw_dataset/full/simplified/*\""
   ]
  },
  {
   "cell_type": "markdown",
   "metadata": {},
   "source": [
    "which will output a long list of files like the following:"
   ]
  },
  {
   "cell_type": "code",
   "execution_count": null,
   "metadata": {
    "collapsed": true
   },
   "outputs": [],
   "source": [
    "gs://quickdraw_dataset/full/simplified/The Eiffel Tower.ndjson\n",
    "gs://quickdraw_dataset/full/simplified/The Great Wall of China.ndjson\n",
    "gs://quickdraw_dataset/full/simplified/The Mona Lisa.ndjson\n",
    "gs://quickdraw_dataset/full/simplified/aircraft carrier.ndjson\n",
    "..."
   ]
  },
  {
   "cell_type": "markdown",
   "metadata": {},
   "source": [
    "Then create a folder and download the dataset there."
   ]
  },
  {
   "cell_type": "code",
   "execution_count": null,
   "metadata": {
    "collapsed": true
   },
   "outputs": [],
   "source": [
    "mkdir rnn_tutorial_data\n",
    "cd rnn_tutorial_data\n",
    "gsutil -m cp \"gs://quickdraw_dataset/full/simplified/*\" ."
   ]
  },
  {
   "cell_type": "markdown",
   "metadata": {},
   "source": [
    "This download will take a while and download a bit more than 23GB of data.\n",
    "\n",
    "### Optional: Converting the data\n",
    "To convert the ndjson files to [TFRecord](https://www.tensorflow.org/api_guides/python/python_io#tfrecords_format_details) files containing ${tf.train.Example} protos run the following command."
   ]
  },
  {
   "cell_type": "code",
   "execution_count": null,
   "metadata": {
    "collapsed": true
   },
   "outputs": [],
   "source": [
    "   python create_dataset.py --ndjson_path rnn_tutorial_data \\\n",
    "      --output_path rnn_tutorial_data"
   ]
  },
  {
   "cell_type": "markdown",
   "metadata": {},
   "source": [
    "This will store the data in 10 shards of [TFRecord](https://www.tensorflow.org/api_guides/python/python_io#tfrecords_format_details) files with 10000 items per class for the training data and 1000 items per class as eval data.\n",
    "\n",
    "This conversion process is described in more detail in the following.\n",
    "\n",
    "The original QuickDraw data is formatted as ndjson files where each line contains a JSON object like the following:"
   ]
  },
  {
   "cell_type": "code",
   "execution_count": null,
   "metadata": {
    "collapsed": true
   },
   "outputs": [],
   "source": [
    "{\"word\":\"cat\",\n",
    " \"countrycode\":\"VE\",\n",
    " \"timestamp\":\"2017-03-02 23:25:10.07453 UTC\",\n",
    " \"recognized\":true,\n",
    " \"key_id\":\"5201136883597312\",\n",
    " \"drawing\":[\n",
    "   [\n",
    "     [130,113,99,109,76,64,55,48,48,51,59,86,133,154,170,203,214,217,215,208,186,176,162,157,132],\n",
    "     [72,40,27,79,82,88,100,120,134,152,165,184,189,186,179,152,131,114,100,89,76,0,31,65,70]\n",
    "   ],[\n",
    "     [76,28,7],\n",
    "     [136,128,128]\n",
    "   ],[\n",
    "     [76,23,0],\n",
    "     [160,164,175]\n",
    "   ],[\n",
    "     [87,52,37],\n",
    "     [175,191,204]\n",
    "   ],[\n",
    "     [174,220,246,251],\n",
    "     [134,132,136,139]\n",
    "   ],[\n",
    "     [175,255],\n",
    "     [147,168]\n",
    "   ],[\n",
    "     [171,208,215],\n",
    "     [164,198,210]\n",
    "   ],[\n",
    "     [130,110,108,111,130,139,139,119],\n",
    "     [129,134,137,144,148,144,136,130]\n",
    "   ],[\n",
    "     [107,106],\n",
    "     [96,113]\n",
    "   ]\n",
    " ]\n",
    "}"
   ]
  },
  {
   "cell_type": "markdown",
   "metadata": {},
   "source": [
    "For our purpose of building a classifier we only care about the fields \"word\" and \"drawing\". While parsing the ndjson files, we process them line by line using a function that converts the strokes from the drawing field into a tensor of size [number of points, 3] containing the differences of consecutive points. This function also returns the class name as a string."
   ]
  },
  {
   "cell_type": "code",
   "execution_count": null,
   "metadata": {
    "collapsed": true
   },
   "outputs": [],
   "source": [
    "def parse_line(ndjson_line):\n",
    "  \"\"\"Parse an ndjson line and return ink (as np array) and classname.\"\"\"\n",
    "  sample = json.loads(ndjson_line)\n",
    "  class_name = sample[\"word\"]\n",
    "  inkarray = sample[\"drawing\"]\n",
    "  stroke_lengths = [len(stroke[0]) for stroke in inkarray]\n",
    "  total_points = sum(stroke_lengths)\n",
    "  np_ink = np.zeros((total_points, 3), dtype=np.float32)\n",
    "  current_t = 0\n",
    "  for stroke in inkarray:\n",
    "    for i in [0, 1]:\n",
    "      np_ink[current_t:(current_t + len(stroke[0])), i] = stroke[i]\n",
    "    current_t += len(stroke[0])\n",
    "    np_ink[current_t - 1, 2] = 1  # stroke_end\n",
    "  # Preprocessing.\n",
    "  # 1. Size normalization.\n",
    "  lower = np.min(np_ink[:, 0:2], axis=0)\n",
    "  upper = np.max(np_ink[:, 0:2], axis=0)\n",
    "  scale = upper - lower\n",
    "  scale[scale == 0] = 1\n",
    "  np_ink[:, 0:2] = (np_ink[:, 0:2] - lower) / scale\n",
    "  # 2. Compute deltas.\n",
    "  np_ink = np_ink[1:, 0:2] - np_ink[0:-1, 0:2]\n",
    "  return np_ink, class_name"
   ]
  },
  {
   "cell_type": "markdown",
   "metadata": {},
   "source": [
    "Since we want the data to be shuffled for writing we read from each of the category files in random order and write to a random shard.\n",
    "\n",
    "For the training data we read the first 10000 items for each class and for the eval data we read the next 1000 items for each class.\n",
    "\n",
    "This data is then reformatted into a tensor of shape [num_training_samples, max_length, 3]. Then we determine the bounding box of the original drawing in screen coordinates and normalize the size such that the drawing has unit height.\n",
    "\n",
    "![quickdraw-size-normalize](quickdraw_sizenormalization.png)\n",
    "\n",
    "Finally, we compute the differences between consecutive points and store these as a VarLenFeature in a tensorflow.Example under the key ink. In addition we store the class_index as a single entry FixedLengthFeature and the shape of the ink as a FixedLengthFeature of length 2.\n",
    "\n",
    "### Defining the model\n",
    "To define the model we create a new Estimator. If you want to read more about estimators, we recommend [this tutorial](https://www.tensorflow.org/get_started/custom_estimators).\n",
    "\n",
    "To build the model, we:\n",
    "\n",
    "1. reshape the input back into the original shape - where the mini batch is padded to the maximal length of its contents. In addition to the ink data we also have the lengths for each example and the target class. This happens in the function [_get_input_tensors](https://www.tensorflow.org/tutorials/recurrent_quickdraw#_get_input_tensors).\n",
    "\n",
    "2. pass the input through to a series of convolution layers in [_add_conv_layers](https://www.tensorflow.org/tutorials/recurrent_quickdraw#_add_conv_layers).\n",
    "\n",
    "3. pass the output of the convolutions into a series of bidirectional LSTM layers in [_add_rnn_layers](https://www.tensorflow.org/tutorials/recurrent_quickdraw#_add_rnn_layers). At the end of that, the outputs for each time step are summed up to have a compact, fixed length embedding of the input.\n",
    "\n",
    "4. classify this embedding using a softmax layer in [_add_fc_layers](https://www.tensorflow.org/tutorials/recurrent_quickdraw#_add_fc_layers).\n",
    "\n",
    "In code this looks like:"
   ]
  },
  {
   "cell_type": "code",
   "execution_count": null,
   "metadata": {
    "collapsed": true
   },
   "outputs": [],
   "source": [
    "inks, lengths, targets = _get_input_tensors(features, targets)\n",
    "convolved = _add_conv_layers(inks)\n",
    "final_state = _add_rnn_layers(convolved, lengths)\n",
    "logits =_add_fc_layers(final_state)"
   ]
  },
  {
   "cell_type": "markdown",
   "metadata": {},
   "source": [
    "#### _get_input_tensors\n",
    "\n",
    "To obtain the input features we first obtain the shape from the features dict and then create a 1D tensor of size [batch_size] containing the lengths of the input sequences. The ink is stored as a SparseTensor in the features dict which we convert into a dense tensor and then reshape to be [batch_size, ?, 3]. And finally, if targets were passed in we make sure they are stored as a 1D tensor of size [batch_size]\n",
    "\n",
    "In code this looks like this:"
   ]
  },
  {
   "cell_type": "code",
   "execution_count": null,
   "metadata": {
    "collapsed": true
   },
   "outputs": [],
   "source": [
    "shapes = features[\"shape\"]\n",
    "lengths = tf.squeeze(\n",
    "    tf.slice(shapes, begin=[0, 0], size=[params[\"batch_size\"], 1]))\n",
    "inks = tf.reshape(\n",
    "    tf.sparse_tensor_to_dense(features[\"ink\"]),\n",
    "    [params[\"batch_size\"], -1, 3])\n",
    "if targets is not None:\n",
    "  targets = tf.squeeze(targets)"
   ]
  },
  {
   "cell_type": "markdown",
   "metadata": {},
   "source": [
    "#### _add_conv_layers\n",
    "The desired number of convolution layers and the lengths of the filters is configured through the parameters num_conv and conv_len in the params dict.\n",
    "\n",
    "The input is a sequence where each point has dimensionality 3. We are going to use 1D convolutions where we treat the 3 input features as channels. That means that the input is a [batch_size, length, 3] tensor and the output will be a [batch_size, length, number_of_filters] tensor."
   ]
  },
  {
   "cell_type": "code",
   "execution_count": null,
   "metadata": {
    "collapsed": true
   },
   "outputs": [],
   "source": [
    "convolved = inks\n",
    "for i in range(len(params.num_conv)):\n",
    "  convolved_input = convolved\n",
    "  if params.batch_norm:\n",
    "    convolved_input = tf.layers.batch_normalization(\n",
    "        convolved_input,\n",
    "        training=(mode == tf.estimator.ModeKeys.TRAIN))\n",
    "  # Add dropout layer if enabled and not first convolution layer.\n",
    "  if i > 0 and params.dropout:\n",
    "    convolved_input = tf.layers.dropout(\n",
    "        convolved_input,\n",
    "        rate=params.dropout,\n",
    "        training=(mode == tf.estimator.ModeKeys.TRAIN))\n",
    "  convolved = tf.layers.conv1d(\n",
    "      convolved_input,\n",
    "      filters=params.num_conv[i],\n",
    "      kernel_size=params.conv_len[i],\n",
    "      activation=None,\n",
    "      strides=1,\n",
    "      padding=\"same\",\n",
    "      name=\"conv1d_%d\" % i)\n",
    "return convolved, lengths"
   ]
  },
  {
   "cell_type": "markdown",
   "metadata": {},
   "source": [
    "#### _add_rnn_layers\n",
    "We pass the output from the convolutions into bidirectional LSTM layers for which we use a helper function from contrib."
   ]
  },
  {
   "cell_type": "code",
   "execution_count": null,
   "metadata": {
    "collapsed": true
   },
   "outputs": [],
   "source": [
    "outputs, _, _ = contrib_rnn.stack_bidirectional_dynamic_rnn(\n",
    "    cells_fw=[cell(params.num_nodes) for _ in range(params.num_layers)],\n",
    "    cells_bw=[cell(params.num_nodes) for _ in range(params.num_layers)],\n",
    "    inputs=convolved,\n",
    "    sequence_length=lengths,\n",
    "    dtype=tf.float32,\n",
    "    scope=\"rnn_classification\")"
   ]
  },
  {
   "cell_type": "markdown",
   "metadata": {},
   "source": [
    "see the code for more details and how to use CUDA accelerated implementations.\n",
    "\n",
    "To create a compact, fixed-length embedding, we sum up the output of the LSTMs. We first zero out the regions of the batch where the sequences have no data."
   ]
  },
  {
   "cell_type": "code",
   "execution_count": null,
   "metadata": {
    "collapsed": true
   },
   "outputs": [],
   "source": [
    "mask = tf.tile(\n",
    "    tf.expand_dims(tf.sequence_mask(lengths, tf.shape(outputs)[1]), 2),\n",
    "    [1, 1, tf.shape(outputs)[2]])\n",
    "zero_outside = tf.where(mask, outputs, tf.zeros_like(outputs))\n",
    "outputs = tf.reduce_sum(zero_outside, axis=1)"
   ]
  },
  {
   "cell_type": "markdown",
   "metadata": {},
   "source": [
    "#### _add_fc_layers\n",
    "The embedding of the input is passed into a fully connected layer which we then use as a softmax layer."
   ]
  },
  {
   "cell_type": "code",
   "execution_count": null,
   "metadata": {
    "collapsed": true
   },
   "outputs": [],
   "source": [
    "tf.layers.dense(final_state, params.num_classes)"
   ]
  },
  {
   "cell_type": "markdown",
   "metadata": {},
   "source": [
    "### Loss, predictions, and optimizer\n",
    "Finally, we need to add a loss, a training op, and predictions to create the ModelFn:"
   ]
  },
  {
   "cell_type": "code",
   "execution_count": null,
   "metadata": {
    "collapsed": true
   },
   "outputs": [],
   "source": [
    "cross_entropy = tf.reduce_mean(\n",
    "    tf.nn.sparse_softmax_cross_entropy_with_logits(\n",
    "        labels=targets, logits=logits))\n",
    "# Add the optimizer.\n",
    "train_op = tf.contrib.layers.optimize_loss(\n",
    "    loss=cross_entropy,\n",
    "    global_step=tf.train.get_global_step(),\n",
    "    learning_rate=params.learning_rate,\n",
    "    optimizer=\"Adam\",\n",
    "    # some gradient clipping stabilizes training in the beginning.\n",
    "    clip_gradients=params.gradient_clipping_norm,\n",
    "    summaries=[\"learning_rate\", \"loss\", \"gradients\", \"gradient_norm\"])\n",
    "predictions = tf.argmax(logits, axis=1)\n",
    "return model_fn_lib.ModelFnOps(\n",
    "    mode=mode,\n",
    "    predictions={\"logits\": logits,\n",
    "                 \"predictions\": predictions},\n",
    "    loss=cross_entropy,\n",
    "    train_op=train_op,\n",
    "    eval_metric_ops={\"accuracy\": tf.metrics.accuracy(targets, predictions)})"
   ]
  },
  {
   "cell_type": "markdown",
   "metadata": {},
   "source": [
    "### Training and evaluating the model\n",
    "To train and evaluate the model we can rely on the functionalities of the Estimator APIs and easily run training and evaluation with the Experiment APIs:"
   ]
  },
  {
   "cell_type": "code",
   "execution_count": null,
   "metadata": {
    "collapsed": true
   },
   "outputs": [],
   "source": [
    "  estimator = tf.estimator.Estimator(\n",
    "      model_fn=model_fn,\n",
    "      model_dir=output_dir,\n",
    "      config=config,\n",
    "      params=model_params)\n",
    "  # Train the model.\n",
    "  tf.contrib.learn.Experiment(\n",
    "      estimator=estimator,\n",
    "      train_input_fn=get_input_fn(\n",
    "          mode=tf.contrib.learn.ModeKeys.TRAIN,\n",
    "          tfrecord_pattern=FLAGS.training_data,\n",
    "          batch_size=FLAGS.batch_size),\n",
    "      train_steps=FLAGS.steps,\n",
    "      eval_input_fn=get_input_fn(\n",
    "          mode=tf.contrib.learn.ModeKeys.EVAL,\n",
    "          tfrecord_pattern=FLAGS.eval_data,\n",
    "          batch_size=FLAGS.batch_size),\n",
    "      min_eval_frequency=1000)"
   ]
  },
  {
   "cell_type": "markdown",
   "metadata": {},
   "source": [
    "Note that this tutorial is just a quick example on a relatively small dataset to get you familiar with the APIs of recurrent neural networks and estimators. Such models can be even more powerful if you try them on a large dataset.\n",
    "\n",
    "When training the model for 1M steps you can expect to get an accuracy of approximately of approximately 70% on the top-1 candidate. Note that this accuracy is sufficient to build the quickdraw game because of the game dynamics the user will be able to adjust their drawing until it is ready. Also, the game does not use the top-1 candidate only but accepts a drawing as correct if the target category shows up with a score better than a fixed threshold."
   ]
  }
 ],
 "metadata": {
  "kernelspec": {
   "display_name": "Python 3",
   "language": "python",
   "name": "python3"
  },
  "language_info": {
   "codemirror_mode": {
    "name": "ipython",
    "version": 3
   },
   "file_extension": ".py",
   "mimetype": "text/x-python",
   "name": "python",
   "nbconvert_exporter": "python",
   "pygments_lexer": "ipython3",
   "version": "3.6.4"
  }
 },
 "nbformat": 4,
 "nbformat_minor": 2
}
