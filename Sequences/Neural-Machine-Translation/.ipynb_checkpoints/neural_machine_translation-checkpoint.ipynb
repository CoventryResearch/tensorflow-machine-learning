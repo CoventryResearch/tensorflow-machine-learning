{
 "cells": [
  {
   "cell_type": "markdown",
   "metadata": {},
   "source": [
    "# Neural Machine Translation (seq2seq) Tutorial\n",
    "*Authors: Thang Luong, Eugene Brevdo, Rui Zhao ([Google Research Blogpost](https://research.googleblog.com/2017/07/building-your-own-neural-machine.html), [Github](https://github.com/tensorflow/nmt))*\n",
    "\n",
    "*This version of the tutorial requires [TensorFlow Nightly](https://github.com/tensorflow/tensorflow/#installation). For using the stable TensorFlow versions, please consider other branches such as [tf-1.4](https://github.com/tensorflow/nmt/tree/tf-1.4).*\n",
    "\n",
    "*If make use of this codebase for your research, please cite [this](https://www.tensorflow.org/tutorials/seq2seq#bibtex).*"
   ]
  },
  {
   "cell_type": "markdown",
   "metadata": {},
   "source": [
    "## Introduction\n",
    "Sequence-to-sequence (seq2seq) models ([Sutskever et al., 2014](https://papers.nips.cc/paper/5346-sequence-to-sequence-learning-with-neural-networks.pdf), [Cho et al., 2014](http://emnlp2014.org/papers/pdf/EMNLP2014179.pdf)) have enjoyed great success in a variety of tasks such as machine translation, speech recognition, and text summarization. This tutorial gives readers a full understanding of seq2seq models and shows how to build a competitive seq2seq model from scratch. We focus on the task of Neural Machine Translation (NMT) which was the very first testbed for seq2seq models with wild [success](https://research.googleblog.com/2016/09/a-neural-network-for-machine.html). The included code is lightweight, high-quality, production-ready, and incorporated with the latest research ideas. We achieve this goal by:\n",
    "\n",
    "1. Using the recent decoder / attention wrapper [API](https://github.com/tensorflow/tensorflow/tree/master/tensorflow/contrib/seq2seq/python/ops), TensorFlow 1.2 data iterator\n",
    "2. Incorporating our strong expertise in building recurrent and seq2seq models\n",
    "3. Providing tips and tricks for building the very best NMT models and replicating [Google’s NMT (GNMT) system](https://research.google.com/pubs/pub45610.html).\n",
    "\n",
    "We believe that it is important to provide benchmarks that people can easily replicate. As a result, we have provided full experimental results and pretrained on models on the following publicly available datasets:\n",
    "\n",
    "1. *Small-scale*: English-Vietnamese parallel corpus of TED talks (133K sentence pairs) provided by the [IWSLT Evaluation Campaign](https://sites.google.com/site/iwsltevaluation2015/).\n",
    "2. *Large-scale*: German-English parallel corpus (4.5M sentence pairs) provided by the [WMT Evaluation Campaign](http://www.statmt.org/wmt16/translation-task.html).\n",
    "\n",
    "We first build up some basic knowledge about seq2seq models for NMT, explaining how to build and train a vanilla NMT model. The second part will go into details of building a competitive NMT model with attention mechanism. We then discuss tips and tricks to build the best possible NMT models (both in speed and translation quality) such as TensorFlow best practices (batching, bucketing), bidirectional RNNs, beam search, as well as scaling up to multiple GPUs using GNMT attention."
   ]
  },
  {
   "cell_type": "markdown",
   "metadata": {},
   "source": [
    "## Basic\n",
    "### Background on Neural Machine Translation\n",
    "Back in the old days, traditional phrase-based translation systems performed their task by breaking up source sentences into multiple chunks and then translated them phrase-by-phrase. This led to disfluency in the translation outputs and was not quite like how we, humans, translate. We read the entire source sentence, understand its meaning, and then produce a translation. Neural Machine Translation (NMT) mimics that!\n",
    "\n",
    "![encoder-decoder](encdec.jpg)Figure 1. **Encoder-decoder architecture** – example of a general approach for NMT. An encoder converts a source sentence into a \"meaning\" vector which is passed through a decoder to produce a translation.\n",
    "\n",
    "Specifically, an NMT system first reads the source sentence using an encoder to build a [\"thought\" vector](https://www.theguardian.com/science/2015/may/21/google-a-step-closer-to-developing-machines-with-human-like-intelligence), a sequence of numbers that represents the sentence meaning; a decoder, then, processes the sentence vector to emit a translation, as illustrated in Figure 1. This is often referred to as the *encoder-decoder architecture*. In this manner, NMT addresses the local translation problem in the traditional phrase-based approach: it can capture *long-range dependencies* in languages, e.g., gender agreements; syntax structures; etc., and produce much more fluent translations as demonstrated by [Google Neural Machine Translation systems](https://research.googleblog.com/2016/09/a-neural-network-for-machine.html).\n",
    "\n",
    "NMT models vary in terms of their exact architectures. A natural choice for sequential data is the recurrent neural network (RNN), used by most NMT models. Usually an RNN is used for both the encoder and decoder. The RNN models, however, differ in terms of: (a) *directionality* – unidirectional or bidirectional; (b) *depth* – single- or multi-layer; and (c) *type* – often either a vanilla RNN, a Long Short-term Memory (LSTM), or a gated recurrent unit (GRU). Interested readers can find more information about RNNs and LSTM on this [blog post](http://colah.github.io/posts/2015-08-Understanding-LSTMs/).\n",
    "\n",
    "In this tutorial, we consider as examples a *deep multi-layer RNN* which is unidirectional and uses LSTM as a recurrent unit. We show an example of such a model in Figure 2. In this example, we build a model to translate a source sentence \"I am a student\" into a target sentence \"Je suis étudiant\". At a high level, the NMT model consists of two recurrent neural networks: the *encoder* RNN simply consumes the input source words without making any prediction; the *decoder*, on the other hand, processes the target sentence while predicting the next words.\n",
    "\n",
    "For more information, we refer readers to [Luong (2016)](https://github.com/lmthang/thesis) which this tutorial is based on.\n",
    "\n",
    "![seq2seq](seq2seq.jpg)Figure 2. **Neural machine translation** – example of a deep recurrent architecture proposed by for translating a source sentence \"I am a student\" into a target sentence \"Je suis étudiant\". Here, s marks the start of the decoding process while /s tells the decoder to stop."
   ]
  },
  {
   "cell_type": "markdown",
   "metadata": {},
   "source": [
    "## Installing the Tutorial\n",
    "To install this tutorial, you need to have TensorFlow installed on your system. This tutorial requires TensorFlow Nightly. To install TensorFlow, follow the [installation instructions here](https://www.tensorflow.org/install/).\n",
    "\n",
    "Once TensorFlow is installed, you can download the source code of this tutorial by running:"
   ]
  },
  {
   "cell_type": "code",
   "execution_count": null,
   "metadata": {
    "collapsed": true
   },
   "outputs": [],
   "source": [
    "git clone https://github.com/tensorflow/nmt/"
   ]
  },
  {
   "cell_type": "markdown",
   "metadata": {},
   "source": [
    "## Training – How to build our first NMT system\n",
    "Let's first dive into the heart of building an NMT model with concrete code snippets through which we will explain Figure 2 in more detail. We defer data preparation and the full code to later. This part refers to file [model.py](https://github.com/tensorflow/nmt/blob/master/nmt/model.py).\n",
    "\n",
    "At the bottom layer, the encoder and decoder RNNs receive as input the following: first, the source sentence, then a boundary marker \"\\s\" which indicates the transition from the encoding to the decoding mode, and the target sentence. For *training*, we will feed the system with the following tensors, which are in time-major format and contain word indices:\n",
    "\n",
    "* **encoder_inputs** [max_encoder_time, batch_size]: source input words.\n",
    "* **decoder_inputs** [max_decoder_time, batch_size]: target input words.\n",
    "* **decoder_outputs** [max_decoder_time, batch_size]: target output words, these are decoder_inputs shifted to the left by one time step with an end-of-sentence tag appended on the right.\n",
    "\n",
    "Here for efficiency, we train with multiple sentences (batch_size) at once. Testing is slightly different, so we will discuss it later."
   ]
  },
  {
   "cell_type": "markdown",
   "metadata": {},
   "source": [
    "### Embedding\n",
    "Given the categorical nature of words, the model must first look up the source and target embeddings to retrieve the corresponding word representations. For this *embedding layer* to work, a vocabulary is first chosen for each language. Usually, a vocabulary size V is selected, and only the most frequent V words are treated as unique. All other words are converted to an \"unknown\" token and all get the same embedding. The embedding weights, one set per language, are usually learned during training."
   ]
  },
  {
   "cell_type": "code",
   "execution_count": null,
   "metadata": {
    "collapsed": true
   },
   "outputs": [],
   "source": [
    "# Embedding\n",
    "embedding_encoder = variable_scope.get_variable(\n",
    "    \"embedding_encoder\", [src_vocab_size, embedding_size], ...)\n",
    "# Look up embedding:\n",
    "#   encoder_inputs: [max_time, batch_size]\n",
    "#   encoder_emb_inp: [max_time, batch_size, embedding_size]\n",
    "encoder_emb_inp = embedding_ops.embedding_lookup(\n",
    "    embedding_encoder, encoder_inputs)"
   ]
  },
  {
   "cell_type": "markdown",
   "metadata": {},
   "source": [
    "Similarly, we can build *embedding_decoder* and *decoder_emb_inp*. Note that one can choose to initialize embedding weights with pretrained word representations such as word2vec or Glove vectors. In general, given a large amount of training data we can learn these embeddings from scratch.\n",
    "\n",
    "## Encoder\n",
    "Once retrieved, the word embeddings are then fed as input into the main network, which consists of two multi-layer RNNs – an encoder for the source language and a decoder for the target language. These two RNNs, in principle, can share the same weights; however, in practice, we often use two different RNN parameters (such models do a better job when fitting large training datasets). The *encoder* RNN uses zero vectors as its starting states and is built as follows:"
   ]
  },
  {
   "cell_type": "code",
   "execution_count": null,
   "metadata": {
    "collapsed": true
   },
   "outputs": [],
   "source": [
    "# Build RNN cell\n",
    "encoder_cell = tf.nn.rnn_cell.BasicLSTMCell(num_units)\n",
    "\n",
    "# Run Dynamic RNN\n",
    "#   encoder_outputs: [max_time, batch_size, num_units]\n",
    "#   encoder_state: [batch_size, num_units]\n",
    "encoder_outputs, encoder_state = tf.nn.dynamic_rnn(\n",
    "    encoder_cell, encoder_emb_inp,\n",
    "    sequence_length=source_sequence_length, time_major=True)"
   ]
  },
  {
   "cell_type": "markdown",
   "metadata": {},
   "source": [
    "Note that sentences have different lengths to avoid wasting computation, we tell *dynamic_rnn* the exact source sentence lengths through *source_sequence_length*. Since our input is time major, we set *time_major=True*. Here, we build only a single layer LSTM, *encoder_cell*. We will describe how to build multi-layer LSTMs, add dropout, and use attention in a later section.\n",
    "\n",
    "## Decoder\n",
    "The *decoder* also needs to have access to the source information, and one simple way to achieve that is to initialize it with the last hidden state of the encoder, *encoder_state*. In Figure 2, we pass the hidden state at the source word \"student\" to the decoder side."
   ]
  },
  {
   "cell_type": "code",
   "execution_count": null,
   "metadata": {
    "collapsed": true
   },
   "outputs": [],
   "source": [
    "# Build RNN cell\n",
    "decoder_cell = tf.nn.rnn_cell.BasicLSTMCell(num_units)"
   ]
  },
  {
   "cell_type": "code",
   "execution_count": null,
   "metadata": {
    "collapsed": true
   },
   "outputs": [],
   "source": [
    "# Helper\n",
    "helper = tf.contrib.seq2seq.TrainingHelper(\n",
    "    decoder_emb_inp, decoder_lengths, time_major=True)\n",
    "# Decoder\n",
    "decoder = tf.contrib.seq2seq.BasicDecoder(\n",
    "    decoder_cell, helper, encoder_state,\n",
    "    output_layer=projection_layer)\n",
    "# Dynamic decoding\n",
    "outputs, _ = tf.contrib.seq2seq.dynamic_decode(decoder, ...)\n",
    "logits = outputs.rnn_output"
   ]
  },
  {
   "cell_type": "markdown",
   "metadata": {},
   "source": [
    "Here, the core part of this code is the *BasicDecoder* object, *decoder*, which receives *decoder_cell* (similar to encoder_cell), a *helper*, and the previous *encoder_state* as inputs. By separating out decoders and helpers, we can reuse different codebases, e.g., *TrainingHelper* can be substituted with *GreedyEmbeddingHelper* to do greedy decoding. See more in [helper.py](https://github.com/tensorflow/tensorflow/blob/master/tensorflow/contrib/seq2seq/python/ops/helper.py).\n",
    "\n",
    "Lastly, we haven't mentioned *projection_layer* which is a dense matrix to turn the top hidden states to logit vectors of dimension V. We illustrate this process at the top of Figure 2."
   ]
  },
  {
   "cell_type": "code",
   "execution_count": null,
   "metadata": {
    "collapsed": true
   },
   "outputs": [],
   "source": [
    "projection_layer = layers_core.Dense(\n",
    "    tgt_vocab_size, use_bias=False)"
   ]
  },
  {
   "cell_type": "markdown",
   "metadata": {},
   "source": [
    "## Loss\n",
    "Given the *logits* above, we are now ready to compute our training loss:"
   ]
  },
  {
   "cell_type": "code",
   "execution_count": null,
   "metadata": {
    "collapsed": true
   },
   "outputs": [],
   "source": [
    "crossent = tf.nn.sparse_softmax_cross_entropy_with_logits(\n",
    "    labels=decoder_outputs, logits=logits)\n",
    "train_loss = (tf.reduce_sum(crossent * target_weights) /\n",
    "    batch_size)"
   ]
  },
  {
   "cell_type": "markdown",
   "metadata": {},
   "source": [
    "Here, *target_weights* is a zero-one matrix of the same size as *decoder_outputs*. It masks padding positions outside of the target sequence lengths with values 0.\n",
    "\n",
    "***Important note***: It's worth pointing out that we divide the loss by *batch_size*, so our hyperparameters are \"invariant\" to batch_size. Some people divide the loss by (*batch_size * num_time_steps*), which plays down the errors made on short sentences. More subtly, our hyperparameters (applied to the former way) can't be used for the latter way. For example, if both approaches use SGD with a learning of 1.0, the latter approach effectively uses a much smaller learning rate of 1 / *num_time_steps*.\n",
    "\n",
    "## Gradient computation & optimization\n",
    "We have now defined the forward pass of our NMT model. Computing the backpropagation pass is just a matter of a few lines of code:"
   ]
  },
  {
   "cell_type": "code",
   "execution_count": null,
   "metadata": {
    "collapsed": true
   },
   "outputs": [],
   "source": [
    "# Calculate and clip gradients\n",
    "params = tf.trainable_variables()\n",
    "gradients = tf.gradients(train_loss, params)\n",
    "clipped_gradients, _ = tf.clip_by_global_norm(\n",
    "    gradients, max_gradient_norm)"
   ]
  },
  {
   "cell_type": "markdown",
   "metadata": {},
   "source": [
    "One of the important steps in training RNNs is gradient clipping. Here, we clip by the global norm. The max value, *max_gradient_norm*, is often set to a value like 5 or 1. The last step is selecting the optimizer. The Adam optimizer is a common choice. We also select a learning rate. The value of *learning_rate* can is usually in the range 0.0001 to 0.001; and can be set to decrease as training progresses."
   ]
  },
  {
   "cell_type": "code",
   "execution_count": null,
   "metadata": {
    "collapsed": true
   },
   "outputs": [],
   "source": [
    "# Optimization\n",
    "optimizer = tf.train.AdamOptimizer(learning_rate)\n",
    "update_step = optimizer.apply_gradients(\n",
    "    zip(clipped_gradients, params))"
   ]
  },
  {
   "cell_type": "markdown",
   "metadata": {},
   "source": [
    "In our own experiments, we use standard SGD (tf.train.GradientDescentOptimizer) with a decreasing learning rate schedule, which yields better performance. See the [benchmarks](https://www.tensorflow.org/tutorials/seq2seq#benchmarks).\n",
    "\n",
    "# Hands-on – Let's train an NMT model\n",
    "Let's train our very first NMT model, translating from Vietnamese to English! The entry point of our code is [nmt.py](https://github.com/tensorflow/nmt/blob/master/nmt/nmt.py).\n",
    "\n",
    "We will use a *small-scale parallel corpus of TED talks* (133K training examples) for this exercise. All data we used here can be found at: [https://nlp.stanford.edu/projects/nmt/](https://nlp.stanford.edu/projects/nmt/). We will use tst2012 as our dev dataset, and tst2013 as our test dataset.\n",
    "\n",
    "Run the following command to download the data for training NMT model:\\ nmt/scripts/download_iwslt15.sh /tmp/nmt_data\n",
    "\n",
    "Run the following command to start the training:"
   ]
  },
  {
   "cell_type": "code",
   "execution_count": null,
   "metadata": {
    "collapsed": true
   },
   "outputs": [],
   "source": [
    "mkdir /tmp/nmt_model\n",
    "python -m nmt.nmt \\\n",
    "    --src=vi --tgt=en \\\n",
    "    --vocab_prefix=/tmp/nmt_data/vocab  \\\n",
    "    --train_prefix=/tmp/nmt_data/train \\\n",
    "    --dev_prefix=/tmp/nmt_data/tst2012  \\\n",
    "    --test_prefix=/tmp/nmt_data/tst2013 \\\n",
    "    --out_dir=/tmp/nmt_model \\\n",
    "    --num_train_steps=12000 \\\n",
    "    --steps_per_stats=100 \\\n",
    "    --num_layers=2 \\\n",
    "    --num_units=128 \\\n",
    "    --dropout=0.2 \\\n",
    "    --metrics=bleu"
   ]
  },
  {
   "cell_type": "markdown",
   "metadata": {},
   "source": [
    "The above command trains a 2-layer LSTM seq2seq model with 128-dim hidden units and embeddings for 12 epochs. We use a dropout value of 0.2 (keep probability 0.8). If no error, we should see logs similar to the below with decreasing perplexity values as we train."
   ]
  },
  {
   "cell_type": "code",
   "execution_count": null,
   "metadata": {
    "collapsed": true
   },
   "outputs": [],
   "source": [
    "# First evaluation, global step 0\n",
    "  eval dev: perplexity 17193.66\n",
    "  eval test: perplexity 17193.27\n",
    "# Start epoch 0, step 0, lr 1, Tue Apr 25 23:17:41 2017\n",
    "  sample train data:\n",
    "    src_reverse: </s> </s> Điều đó , dĩ nhiên , là câu chuyện trích ra từ học thuyết của Karl Marx .\n",
    "    ref: That , of course , was the <unk> distilled from the theories of Karl Marx . </s> </s> </s>\n",
    "  epoch 0 step 100 lr 1 step-time 0.89s wps 5.78K ppl 1568.62 bleu 0.00\n",
    "  epoch 0 step 200 lr 1 step-time 0.94s wps 5.91K ppl 524.11 bleu 0.00\n",
    "  epoch 0 step 300 lr 1 step-time 0.96s wps 5.80K ppl 340.05 bleu 0.00\n",
    "  epoch 0 step 400 lr 1 step-time 1.02s wps 6.06K ppl 277.61 bleu 0.00\n",
    "  epoch 0 step 500 lr 1 step-time 0.95s wps 5.89K ppl 205.85 bleu 0.00"
   ]
  },
  {
   "cell_type": "markdown",
   "metadata": {},
   "source": [
    "See [train.py](https://github.com/tensorflow/nmt/blob/master/nmt/train.py) for more details.\n",
    "\n",
    "We can start Tensorboard to view the summary of the model during training:"
   ]
  },
  {
   "cell_type": "code",
   "execution_count": null,
   "metadata": {
    "collapsed": true
   },
   "outputs": [],
   "source": [
    "tensorboard --port 22222 --logdir /tmp/nmt_model/"
   ]
  },
  {
   "cell_type": "markdown",
   "metadata": {},
   "source": [
    "Training the reverse direction from English and Vietnamese can be done simply by changing:\\ --src=en --tgt=vi\n",
    "\n",
    "# Inference – How to generate translations\n",
    "While you're training your NMT models (and once you have trained models), you can obtain translations given previously unseen source sentences. This process is called inference. There is a clear distinction between training and inference (*testing*): at inference time, we only have access to the source sentence, i.e., *encoder_inputs*. There are many ways to perform decoding. Decoding methods include greedy, sampling, and beam-search decoding. Here, we will discuss the greedy decoding strategy.\n",
    "\n",
    "The idea is simple and we illustrate it in Figure 3:\n",
    "\n",
    "1. We still encode the source sentence in the same way as during training to obtain an *encoder_state*, and this *encoder_state* is used to initialize the decoder.\n",
    "2. The decoding (translation) process is started as soon as the decoder receives a starting symbol \"\\s\" (refer as *tgt_sos_id* in our code);\n",
    "3. For each timestep on the decoder side, we treat the RNN's output as a set of logits. We choose the most likely word, the id associated with the maximum logit value, as the emitted word (this is the \"greedy\" behavior). For example in Figure 3, the word \"moi\" has the highest translation probability in the first decoding step. We then feed this word as input to the next timestep.\n",
    "4. The process continues until the end-of-sentence marker \"\\/s\" is produced as an output symbol (refer as *tgt_eos_id* in our code).\n",
    "\n",
    "![greedy-decoding](greedy_dec.jpg)Figure 3. **Greedy decoding** – example of how a trained NMT model produces a translation for a source sentence \"Je suis étudiant\" using greedy search.\n",
    "\n",
    "Step 3 is what makes inference different from training. Instead of always feeding the correct target words as an input, inference uses words predicted by the model. Here's the code to achieve greedy decoding. It is very similar to the training decoder."
   ]
  },
  {
   "cell_type": "code",
   "execution_count": null,
   "metadata": {
    "collapsed": true
   },
   "outputs": [],
   "source": [
    "# Helper\n",
    "helper = tf.contrib.seq2seq.GreedyEmbeddingHelper(\n",
    "    embedding_decoder,\n",
    "    tf.fill([batch_size], tgt_sos_id), tgt_eos_id)\n",
    "\n",
    "# Decoder\n",
    "decoder = tf.contrib.seq2seq.BasicDecoder(\n",
    "    decoder_cell, helper, encoder_state,\n",
    "    output_layer=projection_layer)\n",
    "# Dynamic decoding\n",
    "outputs, _ = tf.contrib.seq2seq.dynamic_decode(\n",
    "    decoder, maximum_iterations=maximum_iterations)\n",
    "translations = outputs.sample_id"
   ]
  },
  {
   "cell_type": "markdown",
   "metadata": {},
   "source": [
    "Here, we use *GreedyEmbeddingHelper* instead of *TrainingHelper*. Since we do not know the target sequence lengths in advance, we use *maximum_iterations* to limit the translation lengths. One heuristic is to decode up to two times the source sentence lengths."
   ]
  },
  {
   "cell_type": "code",
   "execution_count": null,
   "metadata": {
    "collapsed": true
   },
   "outputs": [],
   "source": [
    "maximum_iterations = tf.round(tf.reduce_max(source_sequence_length) * 2)"
   ]
  },
  {
   "cell_type": "markdown",
   "metadata": {},
   "source": [
    "Having trained a model, we can now create an inference file and translate some sentences:"
   ]
  },
  {
   "cell_type": "code",
   "execution_count": null,
   "metadata": {
    "collapsed": true
   },
   "outputs": [],
   "source": [
    "cat > /tmp/my_infer_file.vi\n",
    "# (copy and paste some sentences from /tmp/nmt_data/tst2013.vi)\n",
    "\n",
    "python -m nmt.nmt \\\n",
    "    --out_dir=/tmp/nmt_model \\\n",
    "    --inference_input_file=/tmp/my_infer_file.vi \\\n",
    "    --inference_output_file=/tmp/nmt_model/output_infer\n",
    "\n",
    "cat /tmp/nmt_model/output_infer # To view the inference as output"
   ]
  },
  {
   "cell_type": "markdown",
   "metadata": {},
   "source": [
    "Note the above commands can also be run while the model is still being trained as long as there exists a training checkpoint. See [inference.py](https://github.com/tensorflow/nmt/tree/master/nmt/inference.py) for more details.\n",
    "\n",
    "# Intermediate\n",
    "Having gone through the most basic seq2seq model, let's get more advanced! To build state-of-the-art neural machine translation systems, we will need more \"secret sauce\": the *attention mechanism*, which was first introduced by [Bahdanau et al., 2015](https://arxiv.org/abs/1409.0473), then later refined by [Luong et al., 2015](https://arxiv.org/abs/1508.04025) and others. The key idea of the attention mechanism is to establish direct short-cut connections between the target and the source by paying \"attention\" to relevant source content as we translate. A nice byproduct of the attention mechanism is an easy-to-visualize alignment matrix between the source and target sentences (as shown in Figure 4).\n",
    "\n",
    "![attention-visual](attention_vis.jpg)Figure 4. **Attention visualization** – example of the alignments between source and target sentences. Image is taken from (Bahdanau et al., 2015).\n",
    "\n",
    "Remember that in the vanilla seq2seq model, we pass the last source state from the encoder to the decoder when starting the decoding process. This works well for short and medium-length sentences; however, for long sentences, the single fixed-size hidden state becomes an information bottleneck. Instead of discarding all of the hidden states computed in the source RNN, the attention mechanism provides an approach that allows the decoder to peek at them (treating them as a dynamic memory of the source information). By doing so, the attention mechanism improves the translation of longer sentences. Nowadays, attention mechanisms are the defacto standard and have been successfully applied to many other tasks (including image caption generation, speech recognition, and text summarization)."
   ]
  },
  {
   "cell_type": "markdown",
   "metadata": {},
   "source": [
    "# Background on the Attention Mechanism\n",
    "We now describe an instance of the attention mechanism proposed in (Luong et al., 2015), which has been used in several state-of-the-art systems including open-source toolkits such as [OpenNMT](http://opennmt.net/about/) and in the TF seq2seq API in this tutorial. We will also provide connections to other variants of the attention mechanism.\n",
    "\n",
    "![attention-mechanism](attention_mechanism.jpg)Figure 5. **Attention mechanism** – example of an attention-based NMT system as described in (Luong et al., 2015) . We highlight in detail the first step of the attention computation. For clarity, we don't show the embedding and projection layers in Figure (2).\n",
    "\n",
    "As illustrated in Figure 5, the attention computation happens at every decoder time step. It consists of the following stages:\n",
    "\n",
    "1. The current target hidden state is compared with all source states to derive *attention weights* (can be visualized as in Figure 4).\n",
    "2. Based on the attention weights we compute a *context vector* as the weighted average of the source states.\n",
    "3. Combine the context vector with the current target hidden state to yield the final *attention vector*.\n",
    "4. The attention vector is fed as an input to the next time step (*input feeding*). The first three steps can be summarized by the equations below:\n",
    "\n",
    "![attention-equation-0](attention_equation_0.jpg)\n",
    "\n",
    "Here, the function score is used to compared the target hidden state $h_t$ with each of the source hidden states $\\overline{h}_s$, and the result is normalized to produced attention weights (a distribution over source positions). There are various choices of the scoring function; popular scoring functions include the multiplicative and additive forms given in Eq. (4). Once computed, the attention vector $a_t$ is used to derive the softmax logit and loss. This is similar to the target hidden state at the top layer of a vanilla seq2seq model. The function f can also take other forms.\n",
    "\n",
    "![attention-equation-1](attention_equation_1.jpg)\n",
    "\n",
    "Various implementations of attention mechanisms can be found in [attention_wrapper.py](https://github.com/tensorflow/tensorflow/blob/master/tensorflow/contrib/seq2seq/python/ops/attention_wrapper.py).\n",
    "\n",
    "***What matters in the attention mechanism?***\n",
    "\n",
    "As hinted in the above equations, there are many different attention variants. These variants depend on the form of the scoring function and the attention function, and on whether the previous state $h_{t-1}$ is used instead of $h_t$ in the scoring function as originally suggested in (Bahdanau et al., 2015). Empirically, we found that only certain choices matter. First, the basic form of attention, i.e., direct connections between target and source, needs to be present. Second, it's important to feed the attention vector to the next timestep to inform the network about past attention decisions as demonstrated in (Luong et al., 2015). Lastly, choices of the scoring function can often result in different performance. See more in the [benchmark results](https://www.tensorflow.org/tutorials/seq2seq#benchmarks) section."
   ]
  },
  {
   "cell_type": "markdown",
   "metadata": {},
   "source": [
    "# Attention Wrapper API\n",
    "In our implementation of the [AttentionWrapper](https://github.com/tensorflow/tensorflow/blob/master/tensorflow/contrib/seq2seq/python/ops/attention_wrapper.py), we borrow some terminology from ([Weston et al., 2015](https://arxiv.org/abs/1410.3916)) in their work on *memory networks*. Instead of having readable & writable memory, the attention mechanism presented in this tutorial is a *read-only* memory. Specifically, the set of source hidden states (or their transformed versions, e.g., $W\\overline{h}_s$ in Luong's scoring style or $W_2\\overline{h}_s$ in Bahdanau's scoring style) is referred to as the \"*memory*\". At each time step, we use the current target hidden state as a \"*query*\" to decide on which parts of the memory to read. Usually, the query needs to be compared with keys corresponding to individual memory slots. In the above presentation of the attention mechanism, we happen to use the set of source hidden states (or their transformed versions, e.g., $W_1h_t$ in Bahdanau's scoring style) as \"keys\". One can be inspired by this memory-network terminology to derive other forms of attention!\n",
    "\n",
    "Thanks to the attention wrapper, extending our vanilla seq2seq code with attention is trivial. This part refers to file [attention_model.py](https://github.com/tensorflow/nmt/blob/master/nmt/attention_model.py).\n",
    "\n",
    "First, we need to define an attention mechanism, e.g., from (Luong et al., 2015):"
   ]
  },
  {
   "cell_type": "code",
   "execution_count": null,
   "metadata": {
    "collapsed": true
   },
   "outputs": [],
   "source": [
    "# attention_states: [batch_size, max_time, num_units]\n",
    "attention_states = tf.transpose(encoder_outputs, [1, 0, 2])\n",
    "\n",
    "# Create an attention mechanism\n",
    "attention_mechanism = tf.contrib.seq2seq.LuongAttention(\n",
    "    num_units, attention_states,\n",
    "    memory_sequence_length=source_sequence_length)"
   ]
  },
  {
   "cell_type": "markdown",
   "metadata": {},
   "source": [
    "In the previous [Encoder](https://www.tensorflow.org/tutorials/seq2seq#encoder) section, *encoder_outputs* is the set of all source hidden states at the top layer and has the shape of [*max_time, batch_size, num_units*] (since we use *dynamic_rnn* with *time_major* set to *True* for efficiency). For the attention mechanism, we need to make sure the \"memory\" passed in is batch major, so we need to transpose *attention_states*. We pass *source_sequence_length* to the attention mechanism to ensure that the attention weights are properly normalized (over non-padding positions only).\n",
    "\n",
    "Having defined an attention mechanism, we use *AttentionWrapper* to wrap the decoding cell:"
   ]
  },
  {
   "cell_type": "code",
   "execution_count": null,
   "metadata": {
    "collapsed": true
   },
   "outputs": [],
   "source": [
    "decoder_cell = tf.contrib.seq2seq.AttentionWrapper(\n",
    "    decoder_cell, attention_mechanism,\n",
    "    attention_layer_size=num_units)"
   ]
  },
  {
   "cell_type": "markdown",
   "metadata": {},
   "source": [
    "The rest of the code is almost the same as in the Section [Decoder](https://www.tensorflow.org/tutorials/seq2seq#decoder)!\n",
    "\n",
    "# Hands-on – building an attention-based NMT model\n",
    "To enable attention, we need to use one of luong, scaled_luong, bahdanau or normed_bahdanau as the value of the attention flag during training. The flag specifies which attention mechanism we are going to use. In addition, we need to create a new directory for the attention model, so we don't reuse the previously trained basic NMT model.\n",
    "\n",
    "Run the following command to start the training:"
   ]
  },
  {
   "cell_type": "code",
   "execution_count": null,
   "metadata": {
    "collapsed": true
   },
   "outputs": [],
   "source": [
    "mkdir /tmp/nmt_attention_model\n",
    "\n",
    "python -m nmt.nmt \\\n",
    "    --attention=scaled_luong \\\n",
    "    --src=vi --tgt=en \\\n",
    "    --vocab_prefix=/tmp/nmt_data/vocab  \\\n",
    "    --train_prefix=/tmp/nmt_data/train \\\n",
    "    --dev_prefix=/tmp/nmt_data/tst2012  \\\n",
    "    --test_prefix=/tmp/nmt_data/tst2013 \\\n",
    "    --out_dir=/tmp/nmt_attention_model \\\n",
    "    --num_train_steps=12000 \\\n",
    "    --steps_per_stats=100 \\\n",
    "    --num_layers=2 \\\n",
    "    --num_units=128 \\\n",
    "    --dropout=0.2 \\\n",
    "    --metrics=bleu"
   ]
  },
  {
   "cell_type": "markdown",
   "metadata": {},
   "source": [
    "After training, we can use the same inference command with the new out_dir for inference:"
   ]
  },
  {
   "cell_type": "code",
   "execution_count": null,
   "metadata": {
    "collapsed": true
   },
   "outputs": [],
   "source": [
    "python -m nmt.nmt \\\n",
    "    --out_dir=/tmp/nmt_attention_model \\\n",
    "    --inference_input_file=/tmp/my_infer_file.vi \\\n",
    "    --inference_output_file=/tmp/nmt_attention_model/output_infer"
   ]
  },
  {
   "cell_type": "markdown",
   "metadata": {},
   "source": [
    "# Tips & Tricks\n",
    "## Building Training, Eval, and Inference Graphs\n",
    "When building a machine learning model in TensorFlow, it's often best to build three separate graphs:\n",
    "\n",
    "1. The Training graph, which:\n",
    "\n",
    "* Batches, buckets, and possibly subsamples input data from a set of files/external inputs.\n",
    "* Includes the forward and backprop ops.\n",
    "* Constructs the optimizer, and adds the training op.\n",
    "\n",
    "2. The Eval graph, which:\n",
    "\n",
    "* Batches and buckets input data from a set of files/external inputs.\n",
    "* Includes the training forward ops, and additional evaluation ops that aren't used for training.\n",
    "\n",
    "3. The Inference graph, which:\n",
    "\n",
    "* May not batch input data.\n",
    "* Does not subsample or bucket input data.\n",
    "* Reads input data from placeholders (data can be fed directly to the graph via feed_dict or from a C++ TensorFlow serving binary).\n",
    "* Includes a subset of the model forward ops, and possibly additional special inputs/outputs for storing state between session.run calls.\n",
    "\n",
    "Building separate graphs has several benefits:\n",
    "\n",
    "* The inference graph is usually very different from the other two, so it makes sense to build it separately.\n",
    "* The eval graph becomes simpler since it no longer has all the additional backprop ops.\n",
    "* Data feeding can be implemented separately for each graph.\n",
    "* Variable reuse is much simpler. For example, in the eval graph there's no need to reopen variable scopes with reuse=True just because the Training model created these variables already. So the same code can be reused without sprinkling reuse= arguments everywhere.\n",
    "* In distributed training, it is commonplace to have separate workers perform training, eval, and inference. These need to build their own graphs anyway. So building the system this way prepares you for distributed training.\n",
    "\n",
    "The primary source of complexity becomes how to share Variables across the three graphs in a single machine setting. This is solved by using a separate session for each graph. The training session periodically saves checkpoints, and the eval session and the infer session restore parameters from checkpoints. The example below shows the main differences between the two approaches.\n",
    "\n",
    "**Before: Three models in a single graph and sharing a single Session**"
   ]
  },
  {
   "cell_type": "code",
   "execution_count": null,
   "metadata": {
    "collapsed": true
   },
   "outputs": [],
   "source": [
    "with tf.variable_scope('root'):\n",
    "  train_inputs = tf.placeholder()\n",
    "  train_op, loss = BuildTrainModel(train_inputs)\n",
    "  initializer = tf.global_variables_initializer()\n",
    "\n",
    "with tf.variable_scope('root', reuse=True):\n",
    "  eval_inputs = tf.placeholder()\n",
    "  eval_loss = BuildEvalModel(eval_inputs)\n",
    "\n",
    "with tf.variable_scope('root', reuse=True):\n",
    "  infer_inputs = tf.placeholder()\n",
    "  inference_output = BuildInferenceModel(infer_inputs)\n",
    "\n",
    "sess = tf.Session()\n",
    "\n",
    "sess.run(initializer)\n",
    "\n",
    "for i in itertools.count():\n",
    "  train_input_data = ...\n",
    "  sess.run([loss, train_op], feed_dict={train_inputs: train_input_data})\n",
    "\n",
    "  if i % EVAL_STEPS == 0:\n",
    "    while data_to_eval:\n",
    "      eval_input_data = ...\n",
    "      sess.run([eval_loss], feed_dict={eval_inputs: eval_input_data})\n",
    "\n",
    "  if i % INFER_STEPS == 0:\n",
    "    sess.run(inference_output, feed_dict={infer_inputs: infer_input_data})"
   ]
  },
  {
   "cell_type": "markdown",
   "metadata": {},
   "source": [
    "**After: Three models in three graphs, with three Sessions sharing the same Variables**"
   ]
  },
  {
   "cell_type": "code",
   "execution_count": null,
   "metadata": {
    "collapsed": true
   },
   "outputs": [],
   "source": [
    "train_graph = tf.Graph()\n",
    "eval_graph = tf.Graph()\n",
    "infer_graph = tf.Graph()\n",
    "\n",
    "with train_graph.as_default():\n",
    "  train_iterator = ...\n",
    "  train_model = BuildTrainModel(train_iterator)\n",
    "  initializer = tf.global_variables_initializer()\n",
    "\n",
    "with eval_graph.as_default():\n",
    "  eval_iterator = ...\n",
    "  eval_model = BuildEvalModel(eval_iterator)\n",
    "\n",
    "with infer_graph.as_default():\n",
    "  infer_iterator, infer_inputs = ...\n",
    "  infer_model = BuildInferenceModel(infer_iterator)\n",
    "\n",
    "checkpoints_path = \"/tmp/model/checkpoints\"\n",
    "\n",
    "train_sess = tf.Session(graph=train_graph)\n",
    "eval_sess = tf.Session(graph=eval_graph)\n",
    "infer_sess = tf.Session(graph=infer_graph)\n",
    "\n",
    "train_sess.run(initializer)\n",
    "train_sess.run(train_iterator.initializer)\n",
    "\n",
    "for i in itertools.count():\n",
    "\n",
    "  train_model.train(train_sess)\n",
    "\n",
    "  if i % EVAL_STEPS == 0:\n",
    "    checkpoint_path = train_model.saver.save(train_sess, checkpoints_path, global_step=i)\n",
    "    eval_model.saver.restore(eval_sess, checkpoint_path)\n",
    "    eval_sess.run(eval_iterator.initializer)\n",
    "    while data_to_eval:\n",
    "      eval_model.eval(eval_sess)\n",
    "\n",
    "  if i % INFER_STEPS == 0:\n",
    "    checkpoint_path = train_model.saver.save(train_sess, checkpoints_path, global_step=i)\n",
    "    infer_model.saver.restore(infer_sess, checkpoint_path)\n",
    "    infer_sess.run(infer_iterator.initializer, feed_dict={infer_inputs: infer_input_data})\n",
    "    while data_to_infer:\n",
    "      infer_model.infer(infer_sess)"
   ]
  },
  {
   "cell_type": "markdown",
   "metadata": {},
   "source": [
    "Notice how the latter approach is \"ready\" to be converted to a distributed version.\n",
    "\n",
    "One other difference in the new approach is that instead of using *feed_dicts* to feed data at each *session.run* call (and thereby performing our own batching, bucketing, and manipulating of data), we use stateful iterator objects. These iterators make the input pipeline much easier in both the single-machine and distributed setting. We will cover the new input data pipeline (as introduced in TensorFlow 1.2) in the next section.\n",
    "\n",
    "## Data Input Pipeline\n",
    "Prior to TensorFlow 1.2, users had two options for feeding data to the TensorFlow training and eval pipelines:\n",
    "\n",
    "1. Feed data directly via *feed_dict* at each training *ession.run* call.\n",
    "2. Use the queueing mechanisms in *tf.train* (e.g. *tf.train.batch*) and *tf.contrib.train*.\n",
    "3. Use helpers from a higher level framework like *tf.contrib.learn* or *tf.contrib.slim* (which effectively use #2).\n",
    "\n",
    "The first approach is easier for users who aren't familiar with TensorFlow or need to do exotic input modification (i.e., their own minibatch queueing) that can only be done in Python. The second and third approaches are more standard but a little less flexible; they also require starting multiple python threads (queue runners). Furthermore, if used incorrectly queues can lead to deadlocks or opaque error messages. Nevertheless, queues are significantly more efficient than using *feed_dict* and are the standard for both single-machine and distributed training.\n",
    "\n",
    "Starting in TensorFlow 1.2, there is a new system available for reading data into TensorFlow models: dataset iterators, as found in the **tf.data** module. Data iterators are flexible, easy to reason about and to manipulate, and provide efficiency and multithreading by leveraging the TensorFlow C++ runtime.\n",
    "\n",
    "A **dataset** can be created from a batch data Tensor, a filename, or a Tensor containing multiple filenames. Some examples:"
   ]
  },
  {
   "cell_type": "code",
   "execution_count": null,
   "metadata": {
    "collapsed": true
   },
   "outputs": [],
   "source": [
    "# Training dataset consists of multiple files.\n",
    "train_dataset = tf.data.TextLineDataset(train_files)\n",
    "\n",
    "# Evaluation dataset uses a single file, but we may\n",
    "# point to a different file for each evaluation round.\n",
    "eval_file = tf.placeholder(tf.string, shape=())\n",
    "eval_dataset = tf.data.TextLineDataset(eval_file)\n",
    "\n",
    "# For inference, feed input data to the dataset directly via feed_dict.\n",
    "infer_batch = tf.placeholder(tf.string, shape=(num_infer_examples,))\n",
    "infer_dataset = tf.data.Dataset.from_tensor_slices(infer_batch)"
   ]
  },
  {
   "cell_type": "markdown",
   "metadata": {},
   "source": [
    "All datasets can be treated similarly via input processing. This includes reading and cleaning the data, bucketing (in the case of training and eval), filtering, and batching.\n",
    "\n",
    "To convert each sentence into vectors of word strings, for example, we use the dataset map transformation:"
   ]
  },
  {
   "cell_type": "code",
   "execution_count": null,
   "metadata": {
    "collapsed": true
   },
   "outputs": [],
   "source": [
    "dataset = dataset.map(lambda string: tf.string_split([string]).values)"
   ]
  },
  {
   "cell_type": "markdown",
   "metadata": {},
   "source": [
    "We can then switch each sentence vector into a tuple containing both the vector and its dynamic length:"
   ]
  },
  {
   "cell_type": "code",
   "execution_count": null,
   "metadata": {
    "collapsed": true
   },
   "outputs": [],
   "source": [
    "dataset = dataset.map(lambda words: (words, tf.size(words))"
   ]
  },
  {
   "cell_type": "markdown",
   "metadata": {},
   "source": [
    "Finally, we can perform a vocabulary lookup on each sentence. Given a lookup table object table, this map converts the first tuple elements from a vector of strings to a vector of integers."
   ]
  },
  {
   "cell_type": "code",
   "execution_count": null,
   "metadata": {
    "collapsed": true
   },
   "outputs": [],
   "source": [
    "dataset = dataset.map(lambda words, size: (table.lookup(words), size))"
   ]
  },
  {
   "cell_type": "markdown",
   "metadata": {},
   "source": [
    "Joining two datasets is also easy. If two files contain line-by-line translations of each other and each one is read into its own dataset, then a new dataset containing the tuples of the zipped lines can be created via:"
   ]
  },
  {
   "cell_type": "code",
   "execution_count": null,
   "metadata": {
    "collapsed": true
   },
   "outputs": [],
   "source": [
    "source_target_dataset = tf.data.Dataset.zip((source_dataset, target_dataset))"
   ]
  },
  {
   "cell_type": "markdown",
   "metadata": {},
   "source": [
    "Batching of variable-length sentences is straightforward. The following transformation batches *batch_size* elements from *source_target_dataset*, and respectively pads the source and target vectors to the length of the longest source and target vector in each batch."
   ]
  },
  {
   "cell_type": "code",
   "execution_count": null,
   "metadata": {
    "collapsed": true
   },
   "outputs": [],
   "source": [
    "batched_dataset = source_target_dataset.padded_batch(\n",
    "        batch_size,\n",
    "        padded_shapes=((tf.TensorShape([None]),  # source vectors of unknown size\n",
    "                        tf.TensorShape([])),     # size(source)\n",
    "                       (tf.TensorShape([None]),  # target vectors of unknown size\n",
    "                        tf.TensorShape([]))),    # size(target)\n",
    "        padding_values=((src_eos_id,  # source vectors padded on the right with src_eos_id\n",
    "                         0),          # size(source) -- unused\n",
    "                        (tgt_eos_id,  # target vectors padded on the right with tgt_eos_id\n",
    "                         0)))         # size(target) -- unused"
   ]
  },
  {
   "cell_type": "markdown",
   "metadata": {},
   "source": [
    "Values emitted from this dataset will be nested tuples whose tensors have a leftmost dimension of size *batch_size*. The structure will be:\n",
    "\n",
    "* iterator[0][0] has the batched and padded source sentence matrices.\n",
    "* iterator[0][1] has the batched source size vectors.\n",
    "* iterator[1][0] has the batched and padded target sentence matrices.\n",
    "* iterator[1][1] has the batched target size vectors.\n",
    "\n",
    "Finally, bucketing that batches similarly-sized source sentences together is also possible. Please see the file [utils/iterator_utils.py](https://github.com/tensorflow/nmt/blob/master/nmt/utils/iterator_utils.py) for more details and the full implementation.\n",
    "\n",
    "Reading data from a Dataset requires three lines of code: create the iterator, get its values, and initialize it."
   ]
  },
  {
   "cell_type": "code",
   "execution_count": null,
   "metadata": {
    "collapsed": true
   },
   "outputs": [],
   "source": [
    "batched_iterator = batched_dataset.make_initializable_iterator()\n",
    "\n",
    "((source, source_lengths), (target, target_lengths)) = batched_iterator.get_next()\n",
    "\n",
    "# At initialization time.\n",
    "session.run(batched_iterator.initializer, feed_dict={...})"
   ]
  },
  {
   "cell_type": "markdown",
   "metadata": {},
   "source": [
    "Once the iterator is initialized, every *session.run* call that accesses source or target tensors will request the next minibatch from the underlying dataset.\n",
    "\n",
    "## Other details for better NMT models\n",
    "### Bidirectional RNNs\n",
    "Bidirectionality on the encoder side generally gives better performance (with some degradation in speed as more layers are used). Here, we give a simplified example of how to build an encoder with a single bidirectional layer:"
   ]
  },
  {
   "cell_type": "code",
   "execution_count": null,
   "metadata": {
    "collapsed": true
   },
   "outputs": [],
   "source": [
    "# Construct forward and backward cells\n",
    "forward_cell = tf.nn.rnn_cell.BasicLSTMCell(num_units)\n",
    "backward_cell = tf.nn.rnn_cell.BasicLSTMCell(num_units)\n",
    "\n",
    "bi_outputs, encoder_state = tf.nn.bidirectional_dynamic_rnn(\n",
    "    forward_cell, backward_cell, encoder_emb_inp,\n",
    "    sequence_length=source_sequence_length, time_major=True)\n",
    "encoder_outputs = tf.concat(bi_outputs, -1)"
   ]
  },
  {
   "cell_type": "markdown",
   "metadata": {},
   "source": [
    "The variables *encoder_outputs* and *encoder_state* can be used in the same way as in Section Encoder. Note that, for multiple bidirectional layers, we need to manipulate the encoder_state a bit, see [model.py](https://github.com/tensorflow/nmt/blob/master/nmt/model.py), method _build_bidirectional_rnn() for more details.\n",
    "\n",
    "## Beam search\n",
    "While greedy decoding can give us quite reasonable translation quality, a beam search decoder can further boost performance. The idea of beam search is to better explore the search space of all possible translations by keeping around a small set of top candidates as we translate. The size of the beam is called *beam width*; a minimal beam width of, say size 10, is generally sufficient. For more information, we refer readers to Section 7.2.3 of [Neubig, (2017)](https://arxiv.org/abs/1703.01619). Here's an example of how beam search can be done:"
   ]
  },
  {
   "cell_type": "code",
   "execution_count": null,
   "metadata": {
    "collapsed": true
   },
   "outputs": [],
   "source": [
    "# Replicate encoder infos beam_width times\n",
    "decoder_initial_state = tf.contrib.seq2seq.tile_batch(\n",
    "    encoder_state, multiplier=hparams.beam_width)\n",
    "\n",
    "# Define a beam-search decoder\n",
    "decoder = tf.contrib.seq2seq.BeamSearchDecoder(\n",
    "        cell=decoder_cell,\n",
    "        embedding=embedding_decoder,\n",
    "        start_tokens=start_tokens,\n",
    "        end_token=end_token,\n",
    "        initial_state=decoder_initial_state,\n",
    "        beam_width=beam_width,\n",
    "        output_layer=projection_layer,\n",
    "        length_penalty_weight=0.0)\n",
    "\n",
    "# Dynamic decoding\n",
    "outputs, _ = tf.contrib.seq2seq.dynamic_decode(decoder, ...)"
   ]
  },
  {
   "cell_type": "markdown",
   "metadata": {},
   "source": [
    "Note that the same *dynamic_decode()* API call is used, similar to the Section [Decoder](https://www.tensorflow.org/tutorials/seq2seq#decoder). Once decoded, we can access the translations as follows:"
   ]
  },
  {
   "cell_type": "code",
   "execution_count": null,
   "metadata": {
    "collapsed": true
   },
   "outputs": [],
   "source": [
    "translations = outputs.predicted_ids\n",
    "# Make sure translations shape is [batch_size, beam_width, time]\n",
    "if self.time_major:\n",
    "   translations = tf.transpose(translations, perm=[1, 2, 0])"
   ]
  },
  {
   "cell_type": "markdown",
   "metadata": {},
   "source": [
    "See [model.py](https://github.com/tensorflow/nmt/blob/master/nmt/model.py), method _build_decoder() for more details.\n",
    "\n",
    "## Hyperparameters\n",
    "There are several hyperparameters that can lead to additional performances. Here, we list some based on our own experience [ Disclaimers: others might not agree on things we wrote! ].\n",
    "\n",
    "* ***Optimizer***: while Adam can lead to reasonable results for \"unfamiliar\" architectures, SGD with scheduling will generally lead to better performance if you can train with SGD.\n",
    "\n",
    "* ***Attention***: Bahdanau-style attention often requires bidirectionality on the encoder side to work well; whereas Luong-style attention tends to work well for different settings. For this tutorial code, we recommend using the two improved variants of Luong & Bahdanau-style attentions: *scaled_luong* & *normed bahdanau*.\n",
    "\n",
    "## Multi-GPU training\n",
    "Training a NMT model may take several days. Placing different RNN layers on different GPUs can improve the training speed. Here’s an example to create RNN layers on multiple GPUs."
   ]
  },
  {
   "cell_type": "code",
   "execution_count": null,
   "metadata": {
    "collapsed": true
   },
   "outputs": [],
   "source": [
    "cells = []\n",
    "for i in range(num_layers):\n",
    "  cells.append(tf.contrib.rnn.DeviceWrapper(\n",
    "      tf.contrib.rnn.LSTMCell(num_units),\n",
    "      \"/gpu:%d\" % (num_layers % num_gpus)))\n",
    "cell = tf.contrib.rnn.MultiRNNCell(cells)"
   ]
  },
  {
   "cell_type": "markdown",
   "metadata": {},
   "source": [
    "In addition, we need to enable the colocate_gradients_with_ops option in tf.gradients to parallelize the gradients computation.\n",
    "\n",
    "You may notice the speed improvement of the attention based NMT model is very small as the number of GPUs increases. One major drawback of the standard attention architecture is using the top (final) layer’s output to query attention at each time step. That means each decoding step must wait its previous step completely finished; hence, we can’t parallelize the decoding process by simply placing RNN layers on multiple GPUs.\n",
    "\n",
    "The [GNMT attention architecture](https://arxiv.org/pdf/1609.08144.pdf) parallelizes the decoder's computation by using the bottom (first) layer’s output to query attention. Therefore, each decoding step can start as soon as its previous step's first layer and attention computation finished. We implemented the architecture in [GNMTAttentionMultiCell](https://github.com/tensorflow/nmt/blob/master/nmt/gnmt_model.py), a subclass of *tf.contrib.rnn.MultiRNNCell*. Here’s an example of how to create a decoder cell with the *GNMTAttentionMultiCell*."
   ]
  },
  {
   "cell_type": "code",
   "execution_count": null,
   "metadata": {
    "collapsed": true
   },
   "outputs": [],
   "source": [
    "cells = []\n",
    "for i in range(num_layers):\n",
    "  cells.append(tf.contrib.rnn.DeviceWrapper(\n",
    "      tf.contrib.rnn.LSTMCell(num_units),\n",
    "      \"/gpu:%d\" % (num_layers % num_gpus)))\n",
    "attention_cell = cells.pop(0)\n",
    "attention_cell = tf.contrib.seq2seq.AttentionWrapper(\n",
    "    attention_cell,\n",
    "    attention_mechanism,\n",
    "    attention_layer_size=None,  # don't add an additional dense layer.\n",
    "    output_attention=False,)\n",
    "cell = GNMTAttentionMultiCell(attention_cell, cells)"
   ]
  },
  {
   "cell_type": "markdown",
   "metadata": {},
   "source": [
    "# Other resources\n",
    "For deeper reading on Neural Machine Translation and sequence-to-sequence models, we highly recommend the following materials by [Luong, Cho, Manning, (2016)](https://sites.google.com/site/acl16nmt/); [Luong, (2016)](https://github.com/lmthang/thesis); and [Neubig, (2017)](https://arxiv.org/abs/1703.01619).\n",
    "\n",
    "There's a wide variety of tools for building seq2seq models, so we pick one per language:\\ Stanford NMT [https://nlp.stanford.edu/projects/nmt/](https://nlp.stanford.edu/projects/nmt/) [Matlab] \\ tf-seq2seq [https://github.com/google/seq2seq](https://github.com/google/seq2seq) [TensorFlow] \\ Nemantus [https://github.com/rsennrich/nematus](https://github.com/EdinburghNLP/nematus) [Theano] \\ OpenNMT [http://opennmt.net/](http://opennmt.net/) [Torch]\\ OpenNMT-py [https://github.com/OpenNMT/OpenNMT-py](https://github.com/OpenNMT/OpenNMT-py) [PyTorch]\n",
    "\n",
    "# References\n",
    "* Dzmitry Bahdanau, Kyunghyun Cho, and Yoshua Bengio. 2015. [Neural machine translation by jointly learning to align and translate](https://arxiv.org/pdf/1409.0473.pdf). ICLR.\n",
    "* Minh-Thang Luong, Hieu Pham, and Christopher D Manning. 2015. [Effective approaches to attention-based neural machine translation](https://arxiv.org/pdf/1508.04025.pdf). EMNLP.\n",
    "* Ilya Sutskever, Oriol Vinyals, and Quoc V. Le. 2014. [Sequence to sequence learning with neural networks](https://papers.nips.cc/paper/5346-sequence-to-sequence-learning-with-neural-networks.pdf). NIPS.\n",
    "\n",
    "# BibTex"
   ]
  },
  {
   "cell_type": "code",
   "execution_count": null,
   "metadata": {
    "collapsed": true
   },
   "outputs": [],
   "source": [
    "@article{luong17,\n",
    "  author  = {Minh{-}Thang Luong and Eugene Brevdo and Rui Zhao},\n",
    "  title   = {Neural Machine Translation (seq2seq) Tutorial},\n",
    "  journal = {https://github.com/tensorflow/nmt},\n",
    "  year    = {2017},\n",
    "}"
   ]
  }
 ],
 "metadata": {
  "kernelspec": {
   "display_name": "Python 2",
   "language": "python",
   "name": "python2"
  },
  "language_info": {
   "codemirror_mode": {
    "name": "ipython",
    "version": 2
   },
   "file_extension": ".py",
   "mimetype": "text/x-python",
   "name": "python",
   "nbconvert_exporter": "python",
   "pygments_lexer": "ipython2",
   "version": "2.7.14"
  }
 },
 "nbformat": 4,
 "nbformat_minor": 2
}
