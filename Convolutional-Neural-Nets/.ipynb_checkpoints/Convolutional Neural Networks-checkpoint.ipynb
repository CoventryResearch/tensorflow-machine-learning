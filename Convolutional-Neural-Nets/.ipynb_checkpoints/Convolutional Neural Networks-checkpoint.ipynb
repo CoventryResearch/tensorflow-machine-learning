{
 "cells": [
  {
   "cell_type": "markdown",
   "metadata": {},
   "source": [
    "# Overview\n",
    "CIFAR-10 classification is a common benchmark problem in machine learning. The problem is to classify RGB 32x32 pixel images across 10 categories:\n",
    "\n",
    "airplane, automobile, bird, cat, deer, dog, frog, horse, ship, and truck.\n",
    "\n",
    "For more details refer to the [CIFAR-10 page](https://www.cs.toronto.edu/~kriz/cifar.html) and a [Tech Report](https://www.cs.toronto.edu/~kriz/learning-features-2009-TR.pdf) by Alex Krizhevsky.\n",
    "\n",
    "## Goals\n",
    "The goal of this tutorial is to build a relatively small [convolutional neural network](https://en.wikipedia.org/wiki/Convolutional_neural_network) (CNN) for recognizing images. In the process, this tutorial:\n",
    "\n",
    "1. Highlights a canonical organization for network architecture, training and evaluation.\n",
    "2. Provides a template for constructing larger and more sophisticated models.\n",
    "\n",
    "The reason CIFAR-10 was selected was that it is complex enough to exercise much of TensorFlow's ability to scale to large models. At the same time, the model is small enough to train fast, which is ideal for trying out new ideas and experimenting with new techniques.\n",
    "\n",
    "## Highlights of the Tutorial\n",
    "The CIFAR-10 tutorial demonstrates several important constructs for designing larger and more sophisticated models in TensorFlow:\n",
    "\n",
    "* Core mathematical components including convolution (wiki), rectified linear activations (wiki), max pooling (wiki) and local response normalization (Chapter 3.3 in AlexNet paper).\n",
    "* Visualization of network activities during training, including input images, losses and distributions of activations and gradients.\n",
    "* Routines for calculating the moving average of learned parameters and using these averages during evaluation to boost predictive performance.\n",
    "* Implementation of a learning rate schedule that systematically decrements over time.\n",
    "* Prefetching queues for input data to isolate the model from disk latency and expensive image pre-processing.\n",
    "\n",
    "We also provide a multi-GPU version of the model which demonstrates:\n",
    "* Configuring a model to train across multiple GPU cards in parallel.\n",
    "* Sharing and updating variables among multiple GPUs.\n",
    "\n",
    "We hope that this tutorial provides a launch point for building larger CNNs for vision tasks on TensorFlow.\n",
    "\n",
    "## Model Architecture\n",
    "The model in this CIFAR-10 tutorial is a multi-layer architecture consisting of alternating convolutions and nonlinearities. These layers are followed by fully connected layers leading into a softmax classifier. The model follows the architecture described by [Alex Krizhevsky](https://code.google.com/archive/p/cuda-convnet/), with a few differences in the top few layers.\n",
    "\n",
    "This model achieves a peak performance of about 86% accuracy within a few hours of training time on a GPU. Please see below and the code for details. It consists of 1,068,298 learnable parameters and requires about 19.5M multiply-add operations to compute inference on a single image."
   ]
  },
  {
   "cell_type": "markdown",
   "metadata": {},
   "source": [
    "# Code Organization\n",
    "* [cifar10_input.py](https://github.com/khanhnamle1994/tensorflow-machine-learning/blob/master/Convolutional-Neural-Nets/cifar10_input.py):\tReads the native CIFAR-10 binary file format.\n",
    "* [cifar10.py](https://github.com/khanhnamle1994/tensorflow-machine-learning/blob/master/Convolutional-Neural-Nets/cifar10.py): Builds the CIFAR-10 model.\n",
    "* [cifar10_train.py](https://github.com/khanhnamle1994/tensorflow-machine-learning/blob/master/Convolutional-Neural-Nets/cifar10_train.py): Trains a CIFAR-10 model on a CPU or GPU.\n",
    "* [cifar10_multi_gpu_train.py](https://github.com/khanhnamle1994/tensorflow-machine-learning/blob/master/Convolutional-Neural-Nets/cifar10_multi_gpu_train.py): Trains a CIFAR-10 model on multiple GPUs.\n",
    "* [cifar10_eval.py](https://github.com/khanhnamle1994/tensorflow-machine-learning/blob/master/Convolutional-Neural-Nets/cifar10_eval.py): Evaluates the predictive performance of a CIFAR-10 model."
   ]
  },
  {
   "cell_type": "markdown",
   "metadata": {},
   "source": [
    "# CIFAR-10 Model\n",
    "The CIFAR-10 network is largely contained in cifar10.py. The complete training graph contains roughly 765 operations. We find that we can make the code most reusable by constructing the graph with the following modules:\n",
    "\n",
    "1. Model inputs: inputs() and distorted_inputs() add operations that read and preprocess CIFAR images for evaluation and training, respectively.\n",
    "2. Model prediction: inference() adds operations that perform inference, i.e. classification, on supplied images.\n",
    "3. Model training: loss() and train() add operations that compute the loss, gradients, variable updates and visualization summaries."
   ]
  },
  {
   "cell_type": "markdown",
   "metadata": {},
   "source": [
    "## Model Inputs\n",
    "The input part of the model is built by the functions inputs() and distorted_inputs() which read images from the CIFAR-10 binary data files. These files contain fixed byte length records, so we use [tf.FixedLengthRecordReader](https://www.tensorflow.org/api_docs/python/tf/FixedLengthRecordReader). See [Reading Data](https://www.tensorflow.org/api_guides/python/reading_data#reading_from_files) to learn more about how the Reader class works.\n",
    "\n",
    "The images are processed as follows:\n",
    "* They are cropped to 24 x 24 pixels, centrally for evaluation or [randomly](https://www.tensorflow.org/api_docs/python/tf/random_crop) for training.\n",
    "* They are [approximately whitened](https://www.tensorflow.org/api_docs/python/tf/image/per_image_standardization) to make the model insensitive to dynamic range.\n",
    "\n",
    "For training, we additionally apply a series of random distortions to artificially increase the data set size:\n",
    "* [Randomly flip](https://www.tensorflow.org/api_docs/python/tf/image/random_flip_left_right) the image from left to right.\n",
    "* Randomly distort the [image brightness](https://www.tensorflow.org/api_docs/python/tf/image/random_brightness).\n",
    "* Randomly distort the [image contrast](https://www.tensorflow.org/api_docs/python/tf/image/random_contrast).\n",
    "\n",
    "Please see the [Images](https://www.tensorflow.org/api_guides/python/image) page for the list of available distortions. We also attach an [tf.summary.image](https://www.tensorflow.org/api_docs/python/tf/summary/image) to the images so that we may visualize them in [TensorBoard](https://www.tensorflow.org/get_started/summaries_and_tensorboard). This is a good practice to verify that inputs are built correctly.\n",
    "\n",
    "![cifar-image](cifar_image_summary.png)\n",
    "\n",
    "Reading images from disk and distorting them can use a non-trivial amount of processing time. To prevent these operations from slowing down training, we run them inside 16 separate threads which continuously fill a TensorFlow [queue](https://www.tensorflow.org/api_docs/python/tf/train/shuffle_batch)."
   ]
  },
  {
   "cell_type": "markdown",
   "metadata": {},
   "source": [
    "## Model Prediction\n",
    "The prediction part of the model is constructed by the inference() function which adds operations to compute the logits of the predictions. That part of the model is organized as follows:\n",
    "\n",
    "Layer Name and Description\n",
    "* conv1:\tconvolution and rectified linear activation.\n",
    "* pool1:\tmax pooling.\n",
    "* norm1:\tlocal response normalization.\n",
    "* conv2:\tconvolution and rectified linear activation.\n",
    "* norm2:\tlocal response normalization.\n",
    "* pool2:\tmax pooling.\n",
    "* local3:\tfully connected layer with rectified linear activation.\n",
    "* local4:\tfully connected layer with rectified linear activation.\n",
    "* softmax_linear:\tlinear transformation to produce logits.\n",
    "\n",
    "Here is a graph generated from TensorBoard describing the inference operation:\n",
    "\n",
    "![cifar-graph](cifar_graph.png)\n",
    "\n",
    "The inputs() and inference() functions provide all the components necessary to perform an evaluation of a model. We now shift our focus towards building operations for training a model."
   ]
  },
  {
   "cell_type": "markdown",
   "metadata": {},
   "source": [
    "## Model Training\n",
    "The usual method for training a network to perform N-way classification is [multinomial logistic regression](https://en.wikipedia.org/wiki/Multinomial_logistic_regression), aka. softmax regression. Softmax regression applies a [softmax](https://www.tensorflow.org/api_docs/python/tf/nn/softmax) nonlinearity to the output of the network and calculates the [cross-entropy](https://www.tensorflow.org/api_docs/python/tf/nn/softmax_cross_entropy_with_logits) between the normalized predictions and a [1-hot encoding](https://www.tensorflow.org/api_docs/python/tf/sparse_to_dense) of the label. For regularization, we also apply the usual [weight decay](https://www.tensorflow.org/api_docs/python/tf/nn/l2_loss) losses to all learned variables. The objective function for the model is the sum of the cross entropy loss and all these weight decay terms, as returned by the loss() function.\n",
    "\n",
    "We visualize it in TensorBoard with a [tf.summary.scalar](https://www.tensorflow.org/api_docs/python/tf/summary/scalar):\n",
    "\n",
    "![cifar-loss](cifar_loss.png)\n",
    "\n",
    "We train the model using standard [gradient descent](https://en.wikipedia.org/wiki/Gradient_descent) algorithm (see [Training](https://www.tensorflow.org/api_guides/python/train) for other methods) with a learning rate that [exponentially decays](https://www.tensorflow.org/api_docs/python/tf/train/exponential_decay) over time.\n",
    "\n",
    "![cifar-lr-decay](cifar_lr_decay.png)\n",
    "\n",
    "The train() function adds the operations needed to minimize the objective by calculating the gradient and updating the learned variables (see [tf.train.GradientDescentOptimizer](https://www.tensorflow.org/api_docs/python/tf/train/GradientDescentOptimizer) for details). It returns an operation that executes all the calculations needed to train and update the model for one batch of images."
   ]
  },
  {
   "cell_type": "markdown",
   "metadata": {},
   "source": [
    "# Launching and Training the Model\n",
    "We have built the model, let's now launch it and run the training operation with the script cifar10_train.py."
   ]
  },
  {
   "cell_type": "code",
   "execution_count": null,
   "metadata": {
    "collapsed": true
   },
   "outputs": [],
   "source": [
    "python cifar10_train.py"
   ]
  },
  {
   "cell_type": "markdown",
   "metadata": {},
   "source": [
    "You should see the output:"
   ]
  },
  {
   "cell_type": "code",
   "execution_count": null,
   "metadata": {
    "collapsed": true
   },
   "outputs": [],
   "source": [
    "Filling queue with 20000 CIFAR images before starting to train. This will take a few minutes.\n",
    "2015-11-04 11:45:45.927302: step 0, loss = 4.68 (2.0 examples/sec; 64.221 sec/batch)\n",
    "2015-11-04 11:45:49.133065: step 10, loss = 4.66 (533.8 examples/sec; 0.240 sec/batch)\n",
    "2015-11-04 11:45:51.397710: step 20, loss = 4.64 (597.4 examples/sec; 0.214 sec/batch)\n",
    "2015-11-04 11:45:54.446850: step 30, loss = 4.62 (391.0 examples/sec; 0.327 sec/batch)\n",
    "2015-11-04 11:45:57.152676: step 40, loss = 4.61 (430.2 examples/sec; 0.298 sec/batch)\n",
    "2015-11-04 11:46:00.437717: step 50, loss = 4.59 (406.4 examples/sec; 0.315 sec/batch)\n",
    "..."
   ]
  },
  {
   "cell_type": "markdown",
   "metadata": {},
   "source": [
    "The script reports the total loss every 10 steps as well as the speed at which the last batch of data was processed. A few comments:\n",
    "\n",
    "* The first batch of data can be inordinately slow (e.g. several minutes) as the preprocessing threads fill up the shuffling queue with 20,000 processed CIFAR images.\n",
    "\n",
    "* The reported loss is the average loss of the most recent batch. Remember that this loss is the sum of the cross entropy and all weight decay terms.\n",
    "\n",
    "* Keep an eye on the processing speed of a batch. The numbers shown above were obtained on a Tesla K40c. If you are running on a CPU, expect slower performance.\n",
    "\n",
    "cifar10_train.py periodically [saves](https://www.tensorflow.org/api_docs/python/tf/train/Saver) all model parameters in [checkpoint files](https://www.tensorflow.org/programmers_guide/variables#saving_and_restoring) but it does not evaluate the model. The checkpoint file will be used by cifar10_eval.py to measure the predictive performance.\n",
    "\n",
    "If you followed the previous steps, then you have now started training a CIFAR-10 model.\n",
    "\n",
    "The terminal text returned from cifar10_train.py provides minimal insight into how the model is training. We want more insight into the model during training:\n",
    "\n",
    "* Is the loss really decreasing or is that just noise?\n",
    "* Is the model being provided appropriate images?\n",
    "* Are the gradients, activations and weights reasonable?\n",
    "* What is the learning rate currently at?\n",
    "\n",
    "[TensorBoard](https://www.tensorflow.org/get_started/summaries_and_tensorboard) provides this functionality, displaying data exported periodically from cifar10_train.py via a [tf.summary.FileWriter](https://www.tensorflow.org/api_docs/python/tf/summary/FileWriter).\n",
    "\n",
    "For instance, we can watch how the distribution of activations and degree of sparsity in local3 features evolve during training:\n",
    "\n",
    "![cifar-sparsity](cifar_sparsity.png)\n",
    "![cifar-activations](cifar_activations.png)\n",
    "\n",
    "Individual loss functions, as well as the total loss, are particularly interesting to track over time. However, the loss exhibits a considerable amount of noise due to the small batch size employed by training. In practice we find it extremely useful to visualize their moving averages in addition to their raw values."
   ]
  },
  {
   "cell_type": "markdown",
   "metadata": {},
   "source": [
    "# Evaluating a Model\n",
    "Let us now evaluate how well the trained model performs on a hold-out data set. The model is evaluated by the script cifar10_eval.py. It constructs the model with the inference() function and uses all 10,000 images in the evaluation set of CIFAR-10. It calculates the precision at 1: how often the top prediction matches the true label of the image.\n",
    "\n",
    "To monitor how the model improves during training, the evaluation script runs periodically on the latest checkpoint files created by the cifar10_train.py."
   ]
  },
  {
   "cell_type": "code",
   "execution_count": null,
   "metadata": {
    "collapsed": true
   },
   "outputs": [],
   "source": [
    "python cifar10_eval.py"
   ]
  },
  {
   "cell_type": "markdown",
   "metadata": {},
   "source": [
    "You should see the output:"
   ]
  },
  {
   "cell_type": "code",
   "execution_count": null,
   "metadata": {
    "collapsed": true
   },
   "outputs": [],
   "source": [
    "2015-11-06 08:30:44.391206: precision @ 1 = 0.860\n",
    "..."
   ]
  },
  {
   "cell_type": "markdown",
   "metadata": {},
   "source": [
    "The script merely returns the precision @ 1 periodically -- in this case it returned 86% accuracy. cifar10_eval.py also exports summaries that may be visualized in TensorBoard. These summaries provide additional insight into the model during evaluation.\n",
    "\n",
    "The training script calculates the [moving average](https://www.tensorflow.org/api_docs/python/tf/train/ExponentialMovingAverage) version of all learned variables. The evaluation script substitutes all learned model parameters with the moving average version. This substitution boosts model performance at evaluation time."
   ]
  },
  {
   "cell_type": "markdown",
   "metadata": {},
   "source": [
    "# Training a Model Using Multiple GPU Cards\n",
    "Modern workstations may contain multiple GPUs for scientific computation. TensorFlow can leverage this environment to run the training operation concurrently across multiple cards.\n",
    "\n",
    "Training a model in a parallel, distributed fashion requires coordinating training processes. For what follows we term model replica to be one copy of a model training on a subset of data.\n",
    "\n",
    "Naively employing asynchronous updates of model parameters leads to sub-optimal training performance because an individual model replica might be trained on a stale copy of the model parameters. Conversely, employing fully synchronous updates will be as slow as the slowest model replica.\n",
    "\n",
    "In a workstation with multiple GPU cards, each GPU will have similar speed and contain enough memory to run an entire CIFAR-10 model. Thus, we opt to design our training system in the following manner:\n",
    "\n",
    "* Place an individual model replica on each GPU.\n",
    "* Update model parameters synchronously by waiting for all GPUs to finish processing a batch of data.\n",
    "\n",
    "Here is a diagram of this model:\n",
    "\n",
    "![parallelism](Parallelism.png)\n",
    "\n",
    "Note that each GPU computes inference as well as the gradients for a unique batch of data. This setup effectively permits dividing up a larger batch of data across the GPUs.\n",
    "\n",
    "This setup requires that all GPUs share the model parameters. A well-known fact is that transferring data to and from GPUs is quite slow. For this reason, we decide to store and update all model parameters on the CPU (see green box). A fresh set of model parameters is transferred to the GPU when a new batch of data is processed by all GPUs.\n",
    "\n",
    "The GPUs are synchronized in operation. All gradients are accumulated from the GPUs and averaged (see green box). The model parameters are updated with the gradients averaged across all model replicas.\n",
    "\n",
    "## Placing Variables and Operations on Devices\n",
    "Placing operations and variables on devices requires some special abstractions.\n",
    "\n",
    "The first abstraction we require is a function for computing inference and gradients for a single model replica. In the code we term this abstraction a \"tower\". We must set two attributes for each tower:\n",
    "\n",
    "* A unique name for all operations within a tower. [tf.name_scope](https://www.tensorflow.org/api_docs/python/tf/name_scope) provides this unique name by prepending a scope. For instance, all operations in the first tower are prepended with tower_0, e.g. tower_0/conv1/Conv2D.\n",
    "\n",
    "* A preferred hardware device to run the operation within a tower. [tf.device](https://www.tensorflow.org/api_docs/python/tf/device) specifies this. For instance, all operations in the first tower reside within device('/device:GPU:0') scope indicating that they should be run on the first GPU.\n",
    "\n",
    "All variables are pinned to the CPU and accessed via [tf.get_variable](https://www.tensorflow.org/api_docs/python/tf/get_variable) in order to share them in a multi-GPU version.\n",
    "\n",
    "## Launching and Training the Model on Multiple GPU cards\n",
    "If you have several GPU cards installed on your machine you can use them to train the model faster with the cifar10_multi_gpu_train.py script. This version of the training script parallelizes the model across multiple GPU cards."
   ]
  },
  {
   "cell_type": "code",
   "execution_count": null,
   "metadata": {
    "collapsed": true
   },
   "outputs": [],
   "source": [
    "python cifar10_multi_gpu_train.py --num_gpus=2"
   ]
  },
  {
   "cell_type": "markdown",
   "metadata": {},
   "source": [
    "Note that the number of GPU cards used defaults to 1. Additionally, if only 1 GPU is available on your machine, all computations will be placed on it, even if you ask for more."
   ]
  }
 ],
 "metadata": {
  "kernelspec": {
   "display_name": "Python 2",
   "language": "python",
   "name": "python2"
  },
  "language_info": {
   "codemirror_mode": {
    "name": "ipython",
    "version": 2
   },
   "file_extension": ".py",
   "mimetype": "text/x-python",
   "name": "python",
   "nbconvert_exporter": "python",
   "pygments_lexer": "ipython2",
   "version": "2.7.14"
  }
 },
 "nbformat": 4,
 "nbformat_minor": 2
}
