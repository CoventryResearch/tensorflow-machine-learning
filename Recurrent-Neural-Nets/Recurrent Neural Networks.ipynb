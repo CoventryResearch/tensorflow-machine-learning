{
 "cells": [
  {
   "cell_type": "markdown",
   "metadata": {},
   "source": [
    "# Introduction\n",
    "Take a look at [this great article](https://colah.github.io/posts/2015-08-Understanding-LSTMs/) for an introduction to recurrent neural networks and LSTMs in particular."
   ]
  },
  {
   "cell_type": "markdown",
   "metadata": {},
   "source": [
    "# Language Modeling\n",
    "In this tutorial we will show how to train a recurrent neural network on a challenging task of language modeling. The goal of the problem is to fit a probabilistic model which assigns probabilities to sentences. It does so by predicting next words in a text given a history of previous words. For this purpose we will use the [Penn Tree Bank](https://catalog.ldc.upenn.edu/ldc99t42) (PTB) dataset, which is a popular benchmark for measuring the quality of these models, whilst being small and relatively fast to train.\n",
    "\n",
    "Language modeling is key to many interesting problems such as speech recognition, machine translation, or image captioning. It is also fun -- take a look [here](https://karpathy.github.io/2015/05/21/rnn-effectiveness/).\n",
    "\n",
    "For the purpose of this tutorial, we will reproduce the results from [Zaremba et al., 2014](https://arxiv.org/abs/1409.2329), which achieves very good quality on the PTB dataset."
   ]
  },
  {
   "cell_type": "markdown",
   "metadata": {},
   "source": [
    "# Tutorial Files\n",
    "* [ptb_word_lm.py](https://github.com/khanhnamle1994/tensorflow-machine-learning/blob/master/Recurrent-Neural-Nets/ptb_word_lm.py): The code to train a language model on the PTB dataset.\n",
    "* [reader.py](https://github.com/khanhnamle1994/tensorflow-machine-learning/blob/master/Recurrent-Neural-Nets/reader.py): The code to read the dataset."
   ]
  },
  {
   "cell_type": "markdown",
   "metadata": {},
   "source": [
    "# Download and Prepare the Data\n",
    "The data required for this tutorial is in the data/ directory of the [PTB dataset from Tomas Mikolov's webpage](http://www.fit.vutbr.cz/~imikolov/rnnlm/simple-examples.tgz).\n",
    "\n",
    "The dataset is already preprocessed and contains overall 10000 different words, including the end-of-sentence marker and a special symbol (\\<unk>) for rare words. In reader.py, we convert each word to a unique integer identifier, in order to make it easy for the neural network to process the data."
   ]
  },
  {
   "cell_type": "markdown",
   "metadata": {},
   "source": [
    "# The Model\n",
    "## LSTM\n",
    "The core of the model consists of an LSTM cell that processes one word at a time and computes probabilities of the possible values for the next word in the sentence. The memory state of the network is initialized with a vector of zeros and gets updated after reading each word. For computational reasons, we will process data in mini-batches of size batch_size. In this example, it is important to note that current_batch_of_words does not correspond to a \"sentence\" of words. Every word in a batch should correspond to a time t. TensorFlow will automatically sum the gradients of each batch for you.\n",
    "\n",
    "For example:"
   ]
  },
  {
   "cell_type": "code",
   "execution_count": null,
   "metadata": {
    "collapsed": true
   },
   "outputs": [],
   "source": [
    " t=0  t=1    t=2  t=3     t=4\n",
    "[The, brown, fox, is,     quick]\n",
    "[The, red,   fox, jumped, high]\n",
    "\n",
    "words_in_dataset[0] = [The, The]\n",
    "words_in_dataset[1] = [brown, red]\n",
    "words_in_dataset[2] = [fox, fox]\n",
    "words_in_dataset[3] = [is, jumped]\n",
    "words_in_dataset[4] = [quick, high]\n",
    "batch_size = 2, time_steps = 5"
   ]
  },
  {
   "cell_type": "markdown",
   "metadata": {},
   "source": [
    "The basic pseudocode is as follows:"
   ]
  },
  {
   "cell_type": "code",
   "execution_count": null,
   "metadata": {
    "collapsed": true
   },
   "outputs": [],
   "source": [
    "words_in_dataset = tf.placeholder(tf.float32, [time_steps, batch_size, num_features])\n",
    "lstm = tf.contrib.rnn.BasicLSTMCell(lstm_size)\n",
    "# Initial state of the LSTM memory.\n",
    "hidden_state = tf.zeros([batch_size, lstm.state_size])\n",
    "current_state = tf.zeros([batch_size, lstm.state_size])\n",
    "state = hidden_state, current_state\n",
    "probabilities = []\n",
    "loss = 0.0\n",
    "for current_batch_of_words in words_in_dataset:\n",
    "    # The value of state is updated after processing each batch of words.\n",
    "    output, state = lstm(current_batch_of_words, state)\n",
    "\n",
    "    # The LSTM output can be used to make next word predictions\n",
    "    logits = tf.matmul(output, softmax_w) + softmax_b\n",
    "    probabilities.append(tf.nn.softmax(logits))\n",
    "    loss += loss_function(probabilities, target_words)"
   ]
  },
  {
   "cell_type": "markdown",
   "metadata": {},
   "source": [
    "## Truncated Backpropagation\n",
    "By design, the output of a recurrent neural network (RNN) depends on arbitrarily distant inputs. Unfortunately, this makes backpropagation computation difficult. In order to make the learning process tractable, it is common practice to create an \"unrolled\" version of the network, which contains a fixed number (num_steps) of LSTM inputs and outputs. The model is then trained on this finite approximation of the RNN. This can be implemented by feeding inputs of length num_steps at a time and performing a backward pass after each such input block.\n",
    "\n",
    "Here is a simplified block of code for creating a graph which performs truncated backpropagation:"
   ]
  },
  {
   "cell_type": "code",
   "execution_count": null,
   "metadata": {
    "collapsed": true
   },
   "outputs": [],
   "source": [
    "# Placeholder for the inputs in a given iteration.\n",
    "words = tf.placeholder(tf.int32, [batch_size, num_steps])\n",
    "\n",
    "lstm = tf.contrib.rnn.BasicLSTMCell(lstm_size)\n",
    "# Initial state of the LSTM memory.\n",
    "initial_state = state = tf.zeros([batch_size, lstm.state_size])\n",
    "\n",
    "for i in range(num_steps):\n",
    "    # The value of state is updated after processing each batch of words.\n",
    "    output, state = lstm(words[:, i], state)\n",
    "\n",
    "    # The rest of the code.\n",
    "    # ...\n",
    "\n",
    "final_state = state"
   ]
  },
  {
   "cell_type": "markdown",
   "metadata": {},
   "source": [
    "And this is how to implement an iteration over the whole dataset:"
   ]
  },
  {
   "cell_type": "code",
   "execution_count": null,
   "metadata": {
    "collapsed": true
   },
   "outputs": [],
   "source": [
    "# A numpy array holding the state of LSTM after each batch of words.\n",
    "numpy_state = initial_state.eval()\n",
    "total_loss = 0.0\n",
    "for current_batch_of_words in words_in_dataset:\n",
    "    numpy_state, current_loss = session.run([final_state, loss],\n",
    "        # Initialize the LSTM state from the previous iteration.\n",
    "        feed_dict={initial_state: numpy_state, words: current_batch_of_words})\n",
    "    total_loss += current_loss"
   ]
  },
  {
   "cell_type": "markdown",
   "metadata": {},
   "source": [
    "## Inputs\n",
    "The word IDs will be embedded into a dense representation (see the [Vector Representations Tutorial](https://www.tensorflow.org/tutorials/word2vec)) before feeding to the LSTM. This allows the model to efficiently represent the knowledge about particular words. It is also easy to write:"
   ]
  },
  {
   "cell_type": "code",
   "execution_count": null,
   "metadata": {
    "collapsed": true
   },
   "outputs": [],
   "source": [
    "# embedding_matrix is a tensor of shape [vocabulary_size, embedding size]\n",
    "word_embeddings = tf.nn.embedding_lookup(embedding_matrix, word_ids)"
   ]
  },
  {
   "cell_type": "markdown",
   "metadata": {},
   "source": [
    "The embedding matrix will be initialized randomly and the model will learn to differentiate the meaning of words just by looking at the data.\n",
    "\n",
    "## Loss Function\n",
    "We want to minimize the average negative log probability of the target words:\n",
    "\n",
    "$$\\text{loss} = -\\frac{1}{N}\\sum_{i=1}^{N} \\ln p_{\\text{target}_i}$$\n",
    "\n",
    "It is not very difficult to implement but the function sequence_loss_by_example is already available, so we can just use it here.\n",
    "\n",
    "The typical measure reported in the papers is average per-word perplexity (often just called perplexity), which is equal to\n",
    "\n",
    "$$e^{-\\frac{1}{N}\\sum_{i=1}^{N} \\ln p_{\\text{target}_i}} = e^{\\text{loss}}$$\n",
    "\n",
    "and we will monitor its value throughout the training process.\n",
    "\n",
    "## Stacking multiple LSTMs\n",
    "To give the model more expressive power, we can add multiple layers of LSTMs to process the data. The output of the first layer will become the input of the second and so on.\n",
    "\n",
    "We have a class called MultiRNNCell that makes the implementation seamless:"
   ]
  },
  {
   "cell_type": "code",
   "execution_count": null,
   "metadata": {
    "collapsed": true
   },
   "outputs": [],
   "source": [
    "def lstm_cell():\n",
    "  return tf.contrib.rnn.BasicLSTMCell(lstm_size)\n",
    "stacked_lstm = tf.contrib.rnn.MultiRNNCell(\n",
    "    [lstm_cell() for _ in range(number_of_layers)])\n",
    "\n",
    "initial_state = state = stacked_lstm.zero_state(batch_size, tf.float32)\n",
    "for i in range(num_steps):\n",
    "    # The value of state is updated after processing each batch of words.\n",
    "    output, state = stacked_lstm(words[:, i], state)\n",
    "\n",
    "    # The rest of the code.\n",
    "    # ...\n",
    "\n",
    "final_state = state"
   ]
  },
  {
   "cell_type": "markdown",
   "metadata": {},
   "source": [
    "# Run the Code\n",
    "Before running the code, download the PTB dataset, as discussed at the beginning of this tutorial. Then, extract the PTB dataset underneath your home directory as follows:"
   ]
  },
  {
   "cell_type": "code",
   "execution_count": null,
   "metadata": {
    "collapsed": true
   },
   "outputs": [],
   "source": [
    "tar xvfz simple-examples.tgz -C $HOME"
   ]
  },
  {
   "cell_type": "markdown",
   "metadata": {},
   "source": [
    "Now, clone the [TensorFlow models repo](https://github.com/tensorflow/models) from GitHub. Run the following commands:"
   ]
  },
  {
   "cell_type": "code",
   "execution_count": null,
   "metadata": {
    "collapsed": true
   },
   "outputs": [],
   "source": [
    "cd models/tutorials/rnn/ptb\n",
    "python ptb_word_lm.py --data_path=$HOME/simple-examples/data/ --model=small"
   ]
  },
  {
   "cell_type": "markdown",
   "metadata": {},
   "source": [
    "There are 3 supported model configurations in the tutorial code: \"small\", \"medium\" and \"large\". The difference between them is in size of the LSTMs and the set of hyperparameters used for training.\n",
    "\n",
    "The larger the model, the better results it should get. The small model should be able to reach perplexity below 120 on the test set and the large one below 80, though it might take several hours to train."
   ]
  },
  {
   "cell_type": "markdown",
   "metadata": {},
   "source": [
    "# What Next?\n",
    "There are several tricks that we haven't mentioned that make the model better, including:\n",
    "* decreasing learning rate schedule,\n",
    "* dropout between the LSTM layers.\n",
    "Study the code and modify it to improve the model even further."
   ]
  }
 ],
 "metadata": {
  "kernelspec": {
   "display_name": "Python 2",
   "language": "python",
   "name": "python2"
  },
  "language_info": {
   "codemirror_mode": {
    "name": "ipython",
    "version": 2
   },
   "file_extension": ".py",
   "mimetype": "text/x-python",
   "name": "python",
   "nbconvert_exporter": "python",
   "pygments_lexer": "ipython2",
   "version": "2.7.14"
  }
 },
 "nbformat": 4,
 "nbformat_minor": 2
}
